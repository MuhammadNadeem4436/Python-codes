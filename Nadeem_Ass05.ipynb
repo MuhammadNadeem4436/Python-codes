{
 "cells": [
  {
   "cell_type": "markdown",
   "id": "d3242bce",
   "metadata": {},
   "source": [
    "# CLASS"
   ]
  },
  {
   "cell_type": "markdown",
   "id": "48cfc753",
   "metadata": {},
   "source": [
    "  1. A design according to which object can be use later instantiated(that exists in real word).\n",
    "  2. Data member and Methods are the parts of any class."
   ]
  },
  {
   "cell_type": "markdown",
   "id": "ea7a81ba",
   "metadata": {},
   "source": [
    "### Example"
   ]
  },
  {
   "cell_type": "code",
   "execution_count": 14,
   "id": "500fb389",
   "metadata": {},
   "outputs": [],
   "source": [
    "# Name of class\n",
    "\n",
    "class Date:\n",
    "\n",
    "# instructor of class\n",
    "\n",
    "    def __init__(self):\n",
    "\n",
    "# Data members of class\n",
    "\n",
    "        self._day = 0\n",
    "        self._month = 0\n",
    "        self._year = 0\n",
    "        \n",
    "# Methods of class\n",
    "\n",
    "# setter method\n",
    "    def setDate(self,d,m,y):\n",
    "        self._day = d\n",
    "        self._month = m\n",
    "        self._year = y\n",
    "        \n",
    "#   getter methods      \n",
    "    def get_day(self):\n",
    "        return self._day\n",
    "    def get_month(self):\n",
    "        return self._month\n",
    "    def get_year(self):\n",
    "        return self._year\n",
    "        "
   ]
  },
  {
   "cell_type": "code",
   "execution_count": 16,
   "id": "f7e45508",
   "metadata": {},
   "outputs": [
    {
     "name": "stdout",
     "output_type": "stream",
     "text": [
      "11\n",
      "5\n",
      "2022\n"
     ]
    }
   ],
   "source": [
    "date1 = Date()\n",
    "date1.setDate(11,5,2022)\n",
    "print(date1.get_day())\n",
    "print(date1.get_month())\n",
    "print(date1.get_year())"
   ]
  },
  {
   "cell_type": "markdown",
   "id": "287b084c",
   "metadata": {},
   "source": [
    "# object"
   ]
  },
  {
   "cell_type": "markdown",
   "id": "02c36a34",
   "metadata": {},
   "source": [
    "An object is an instance of a class.\n",
    "Objects with different properties can be created from the same clas.These objects are identical to each other in terms\n",
    "of their design and yet independent of each other in terms of the values of their\n",
    "attributes.\n",
    "\n"
   ]
  },
  {
   "cell_type": "markdown",
   "id": "9a0fe929",
   "metadata": {},
   "source": [
    "### Example"
   ]
  },
  {
   "cell_type": "code",
   "execution_count": 17,
   "id": "dfe02e55",
   "metadata": {},
   "outputs": [],
   "source": [
    "date1 = Date()\n",
    "date1.setDate(11,5,2022)"
   ]
  },
  {
   "cell_type": "markdown",
   "id": "b0adffd0",
   "metadata": {},
   "source": [
    "date1 is object which is created from Date class."
   ]
  },
  {
   "cell_type": "markdown",
   "id": "40656f87",
   "metadata": {},
   "source": [
    "# Data Encapsulation"
   ]
  },
  {
   "cell_type": "markdown",
   "id": "461a28ec",
   "metadata": {},
   "source": [
    "Data encapsulation encapsulate date in a SINGLE UNIT.\n",
    "\n",
    "In our Date example, the Date class encapsulates both the data (day, month and\n",
    "year) and the code that acts on the data (setDate(), getDay(), getMonth() and\n",
    "getYear()).\n"
   ]
  },
  {
   "cell_type": "code",
   "execution_count": 18,
   "id": "f79b1c65",
   "metadata": {},
   "outputs": [],
   "source": [
    "# we encapsulate data member and methods in a unit.\n",
    "class Date:\n",
    "    def __init__(self):\n",
    "        self._day = 0\n",
    "        self._month = 0\n",
    "        self._year = 0\n",
    "    def setDate(self,d,m,y):\n",
    "        self._day = d\n",
    "        self._month = m\n",
    "        self._year = y      \n",
    "    def get_day(self):\n",
    "        return self._day\n",
    "    def get_month(self):\n",
    "        return self._month\n",
    "    def get_year(self):\n",
    "        return self._year"
   ]
  },
  {
   "cell_type": "markdown",
   "id": "ade8ac99",
   "metadata": {},
   "source": [
    "# Data Hiding"
   ]
  },
  {
   "cell_type": "markdown",
   "id": "9175100f",
   "metadata": {},
   "source": [
    "Data hiding is a concept of hiding data member and methods of class from user so that no one can accidentally temper with it."
   ]
  },
  {
   "cell_type": "code",
   "execution_count": 20,
   "id": "90e3be02",
   "metadata": {},
   "outputs": [],
   "source": [
    "class Date:\n",
    "    # here we hide the data member from the user. \n",
    "    def __init__(self):\n",
    "        self._day = 0\n",
    "        self._month = 0\n",
    "        self._year = 0\n",
    "#     here we allow the user to set Data.we use setter method.  \n",
    "    def setDate(self,d,m,y):\n",
    "        self._day = d\n",
    "        self._month = m\n",
    "        self._year = y      \n",
    "    def get_day(self):\n",
    "        return self._day\n",
    "    def get_month(self):\n",
    "        return self._month\n",
    "    def get_year(self):\n",
    "        return self._year"
   ]
  },
  {
   "cell_type": "markdown",
   "id": "a1f00c54",
   "metadata": {},
   "source": [
    "# Data Abstraction"
   ]
  },
  {
   "cell_type": "markdown",
   "id": "6beb58cd",
   "metadata": {},
   "source": [
    "Data Abstraction is concept of hiding implementation details from user.\n",
    "The first advantage of Data Abstraction is that it makes the object easy to\n",
    "use as the users need to only be aware of the interface and need not know any\n",
    "implementation details."
   ]
  },
  {
   "cell_type": "code",
   "execution_count": 21,
   "id": "0420facf",
   "metadata": {},
   "outputs": [],
   "source": [
    "class Date: \n",
    "    def __init__(self):\n",
    "        self._day = 0\n",
    "        self._month = 0\n",
    "        self._year = 0\n",
    "    def setDate(self,d,m,y):\n",
    "        self._day = d\n",
    "        self._month = m\n",
    "        self._year = y  \n",
    "        \n",
    "#     Here we hide implimenation details from user.\n",
    "\n",
    "    def get_day(self):\n",
    "        return self._day\n",
    "    def get_month(self):\n",
    "        return self._month\n",
    "    def get_year(self):\n",
    "        return self._year"
   ]
  },
  {
   "cell_type": "markdown",
   "id": "37c2e668",
   "metadata": {},
   "source": [
    "# Polymorphism"
   ]
  },
  {
   "cell_type": "markdown",
   "id": "17881cb7",
   "metadata": {},
   "source": [
    "Multiple form of the antity.\n",
    "Performing the same logical operation by choosing from multiple implementation appropriately.\n",
    "\n",
    "FORMS OF POLIMORPHISM:\n",
    "\n",
    " OPRATOR OVERLODING:\n",
    "        Performing same logical operation by using an operator in different ways depending on type of operand.\n",
    "        \n",
    "DYNAMIC POLYMORPHISM:\n",
    "        Performing same logical operation in different way depending on object."
   ]
  },
  {
   "cell_type": "code",
   "execution_count": 16,
   "id": "7dd01dec",
   "metadata": {},
   "outputs": [
    {
     "name": "stdout",
     "output_type": "stream",
     "text": [
      "Muhammad Nadeem\n",
      "Urdu\n",
      "Muahammad abubakar\n",
      "urdu\n"
     ]
    }
   ],
   "source": [
    "# Polymorphism\n",
    "class  student:\n",
    "    def name(self):\n",
    "        print(\"Muhammad Nadeem\")\n",
    "    def language(self):\n",
    "        print(\"Urdu\")\n",
    "class student2:\n",
    "    def name(self):\n",
    "        print(\"Muahammad abubakar\")\n",
    "    def language(self):\n",
    "        print(\"urdu\")\n",
    "std1 = student()\n",
    "std2 = student2()\n",
    "for std in (std1 , std2):\n",
    "    std.name()\n",
    "    std.language()"
   ]
  },
  {
   "cell_type": "code",
   "execution_count": 11,
   "id": "b868e35e",
   "metadata": {},
   "outputs": [
    {
     "name": "stdout",
     "output_type": "stream",
     "text": [
      "your point is  (6,8)\n"
     ]
    }
   ],
   "source": [
    "# OPERATOR OVERLODING\n",
    "class point:\n",
    "    def __init__(self, x=0, y=0):\n",
    "        self.x = x\n",
    "        self.y = y\n",
    "    def __str__(self):\n",
    "        return \"({0},{1})\".format(self.x,self.y)\n",
    "    def __add__(self,o):\n",
    "        x = self.x + o.x\n",
    "        y = self.y + o.y\n",
    "        return point(x,y)\n",
    "p1 = point(2,3)\n",
    "p2 = point(4,5)\n",
    "p3 = (p1+p2)\n",
    "print(\"your point is \",p3)"
   ]
  },
  {
   "cell_type": "markdown",
   "id": "01cadea2",
   "metadata": {},
   "source": [
    "INHERITANCE:\n",
    "    A class acquires all the features and properties of other class. "
   ]
  },
  {
   "cell_type": "code",
   "execution_count": 1,
   "id": "a3f420ca",
   "metadata": {},
   "outputs": [],
   "source": [
    "class person:\n",
    "    def __init__(self,name,height):\n",
    "        self.name = name\n",
    "        self.height = height\n",
    "    def name(self):\n",
    "        print(self.name)\n",
    "    def height(self):\n",
    "        print(self.height)    "
   ]
  },
  {
   "cell_type": "code",
   "execution_count": 2,
   "id": "19dc2f96",
   "metadata": {},
   "outputs": [],
   "source": [
    "class child(person):\n",
    "    pass"
   ]
  },
  {
   "cell_type": "markdown",
   "id": "f6612397",
   "metadata": {},
   "source": [
    "SIMPLE INHERITANCE:\n",
    "    A class inherit from other class."
   ]
  },
  {
   "cell_type": "code",
   "execution_count": 3,
   "id": "c526fc43",
   "metadata": {},
   "outputs": [],
   "source": [
    "class person:\n",
    "    def __init__(self,name,height):\n",
    "        slef.name = name\n",
    "        self.height = height\n",
    "    def name(self):\n",
    "        print(self.name)\n",
    "\n",
    "# Child is inherit from person class\n",
    "\n",
    "class child(person):\n",
    "    pass"
   ]
  },
  {
   "cell_type": "markdown",
   "id": "b9d94dfc",
   "metadata": {},
   "source": [
    "MULTI_LEVEL INHERITANCE:\n",
    "    A class inherit from a class that inherit from other class."
   ]
  },
  {
   "cell_type": "code",
   "execution_count": 4,
   "id": "d633c475",
   "metadata": {},
   "outputs": [],
   "source": [
    "# child2 inherit from child class which is inherit from person class\n",
    "\n",
    "class child2(child):\n",
    "    pass"
   ]
  },
  {
   "cell_type": "markdown",
   "id": "c716945c",
   "metadata": {},
   "source": [
    "MUTIPLE INHERITANCE:\n",
    "    A class inherit from multiple classes"
   ]
  },
  {
   "cell_type": "code",
   "execution_count": null,
   "id": "ce223dae",
   "metadata": {},
   "outputs": [],
   "source": [
    "class "
   ]
  }
 ],
 "metadata": {
  "kernelspec": {
   "display_name": "Python 3 (ipykernel)",
   "language": "python",
   "name": "python3"
  },
  "language_info": {
   "codemirror_mode": {
    "name": "ipython",
    "version": 3
   },
   "file_extension": ".py",
   "mimetype": "text/x-python",
   "name": "python",
   "nbconvert_exporter": "python",
   "pygments_lexer": "ipython3",
   "version": "3.9.7"
  }
 },
 "nbformat": 4,
 "nbformat_minor": 5
}
