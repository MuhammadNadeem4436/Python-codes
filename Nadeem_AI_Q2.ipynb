{
 "cells": [
  {
   "cell_type": "markdown",
   "id": "7f719d85",
   "metadata": {},
   "source": [
    "# Q1"
   ]
  },
  {
   "cell_type": "code",
   "execution_count": 74,
   "id": "481ee063",
   "metadata": {},
   "outputs": [],
   "source": [
    "# HUMAN CLASS\n",
    "\n",
    "class Human:\n",
    "    def __init__(self,name,color,height,position):\n",
    "        self.name = name\n",
    "        self.color = color\n",
    "        self.height = height\n",
    "        self.position = 0\n",
    "        self.alive = False\n",
    "    def is_alive(self):\n",
    "        if self.position == 0:\n",
    "            self.alive = True\n",
    "            print(\"Object is alive\")\n"
   ]
  },
  {
   "cell_type": "code",
   "execution_count": 75,
   "id": "7e413fa5",
   "metadata": {},
   "outputs": [],
   "source": [
    "h1 = Human(\"Ahmed\",\"white\",5.4,0)"
   ]
  },
  {
   "cell_type": "code",
   "execution_count": 76,
   "id": "3502e88e",
   "metadata": {},
   "outputs": [
    {
     "name": "stdout",
     "output_type": "stream",
     "text": [
      "Object is alive\n"
     ]
    }
   ],
   "source": [
    "h1.is_alive()"
   ]
  },
  {
   "cell_type": "code",
   "execution_count": 77,
   "id": "581df777",
   "metadata": {},
   "outputs": [],
   "source": [
    "# SUPPLIER CLASS\n",
    "\n",
    "class Supplier(Human):\n",
    "    def __init__(self,name,color,height,position,product):\n",
    "        Human.__init__(self,name,color,height,position)\n",
    "        self.product = product\n",
    "    def is_product(self):\n",
    "        print(\"Rohafza\")"
   ]
  },
  {
   "cell_type": "code",
   "execution_count": 78,
   "id": "d3012c9f",
   "metadata": {},
   "outputs": [],
   "source": [
    "# EMPLOYEES CLASS\n",
    "\n",
    "class Employees(Supplier,Human):\n",
    "    def __init__(self,name,color,height,position,designation,salary):\n",
    "        Human.__init__(self,name,color,height,position)\n",
    "        self.designation = designation\n",
    "        self.salary = salary\n",
    "    def is_designation(self):\n",
    "        print(self.designation)\n",
    "    def is_salary(self):\n",
    "        print(self.salary)"
   ]
  },
  {
   "cell_type": "code",
   "execution_count": 79,
   "id": "28058b49",
   "metadata": {},
   "outputs": [],
   "source": [
    "e1 = Employees(\"Ahmed\",\"black\",5.4,0,\"Head\",50000,)"
   ]
  },
  {
   "cell_type": "code",
   "execution_count": 80,
   "id": "86ae0bd1",
   "metadata": {},
   "outputs": [
    {
     "name": "stdout",
     "output_type": "stream",
     "text": [
      "Head\n"
     ]
    }
   ],
   "source": [
    "e1.is_designation()"
   ]
  },
  {
   "cell_type": "code",
   "execution_count": 81,
   "id": "6eb1fc58",
   "metadata": {},
   "outputs": [
    {
     "name": "stdout",
     "output_type": "stream",
     "text": [
      "50000\n"
     ]
    }
   ],
   "source": [
    "e1.is_salary()"
   ]
  },
  {
   "cell_type": "code",
   "execution_count": 82,
   "id": "29d7d5f8",
   "metadata": {},
   "outputs": [
    {
     "name": "stdout",
     "output_type": "stream",
     "text": [
      "Object is alive\n"
     ]
    }
   ],
   "source": [
    "e1.is_alive()"
   ]
  },
  {
   "cell_type": "code",
   "execution_count": 83,
   "id": "ea252365",
   "metadata": {},
   "outputs": [
    {
     "name": "stdout",
     "output_type": "stream",
     "text": [
      "Rohafza\n"
     ]
    }
   ],
   "source": [
    "e1.is_product()"
   ]
  },
  {
   "cell_type": "code",
   "execution_count": 90,
   "id": "64d448cb",
   "metadata": {},
   "outputs": [],
   "source": [
    "# Patients class\n",
    "\n",
    "class Patients(Supplier,Human):\n",
    "    def __init__(self,name,color,height,position,disease,blood_group):\n",
    "        Human.__init__(self,name,color,height,position)\n",
    "        self.__disease = disease\n",
    "        self.__blood_group = blood_group\n",
    "    def is_disease(self):\n",
    "        print(self.__disease)\n",
    "    def is_blood_group(self):\n",
    "        print(self.__blood_group)\n",
    "    "
   ]
  },
  {
   "cell_type": "code",
   "execution_count": 91,
   "id": "4e8eb253",
   "metadata": {},
   "outputs": [],
   "source": [
    "p1 = Patients(\"Ali\",\"khaki\",5.6,0,\"Sugar\",\"o_positive\")"
   ]
  },
  {
   "cell_type": "code",
   "execution_count": 92,
   "id": "22f4f204",
   "metadata": {},
   "outputs": [
    {
     "name": "stdout",
     "output_type": "stream",
     "text": [
      "Sugar\n"
     ]
    }
   ],
   "source": [
    "p1.is_disease()"
   ]
  },
  {
   "cell_type": "code",
   "execution_count": 93,
   "id": "859e31ec",
   "metadata": {},
   "outputs": [
    {
     "name": "stdout",
     "output_type": "stream",
     "text": [
      "o_positive\n"
     ]
    }
   ],
   "source": [
    "p1.is_blood_group()"
   ]
  },
  {
   "cell_type": "code",
   "execution_count": 94,
   "id": "54cfd9d2",
   "metadata": {},
   "outputs": [
    {
     "name": "stdout",
     "output_type": "stream",
     "text": [
      "Rohafza\n"
     ]
    }
   ],
   "source": [
    "p1.is_product()"
   ]
  },
  {
   "cell_type": "markdown",
   "id": "7a2ad9d2",
   "metadata": {},
   "source": [
    "# Q.2"
   ]
  },
  {
   "cell_type": "code",
   "execution_count": 43,
   "id": "aec8b319",
   "metadata": {},
   "outputs": [],
   "source": [
    "class Organization:\n",
    "    def __init__(self,name,rank,purpose):\n",
    "        self.name = name\n",
    "        self.rank = rank\n",
    "        self.purpose = purpose\n",
    "    def is_working(self):\n",
    "        print(\"Organization working on A.I projects\")"
   ]
  },
  {
   "cell_type": "code",
   "execution_count": 44,
   "id": "92f1926d",
   "metadata": {},
   "outputs": [],
   "source": [
    "o1 = Organization(\"fhsj\",\"fdg\",\"dff\")"
   ]
  },
  {
   "cell_type": "code",
   "execution_count": 45,
   "id": "253ccc1f",
   "metadata": {},
   "outputs": [
    {
     "name": "stdout",
     "output_type": "stream",
     "text": [
      "Organization working on A.I projects\n"
     ]
    }
   ],
   "source": [
    "o1.is_working()"
   ]
  },
  {
   "cell_type": "code",
   "execution_count": 53,
   "id": "69ac011b",
   "metadata": {},
   "outputs": [],
   "source": [
    "class owner(Organization):\n",
    "    def __init__(self,name,rank,purpose,position):\n",
    "        Organization.__init__(self,name,rank,purpose)\n",
    "        self.position = position\n",
    "      \n",
    "    def __del__(self):\n",
    "        print(\"owner is dead and organization not exit\")\n",
    "        \n",
    "    def is_in(self):\n",
    "        if self.position == 0:\n",
    "            print(\"owner is in Organization\")"
   ]
  },
  {
   "cell_type": "code",
   "execution_count": 54,
   "id": "522b8844",
   "metadata": {},
   "outputs": [],
   "source": [
    "owner1 = owner(\"ali\",\"owner\",\"hendle the organization\",0)"
   ]
  },
  {
   "cell_type": "code",
   "execution_count": 57,
   "id": "1018b181",
   "metadata": {},
   "outputs": [],
   "source": [
    "class employee(Organization):\n",
    "    def __init__(self,name,rank,purpose,position,salary):\n",
    "        Organization.__init__(self,name,rank,purpose)\n",
    "        \n",
    "        self.salary = salary\n",
    "    def is_salary(self):\n",
    "        print(self.salary)\n",
    "    \n",
    "    def __del__(self):\n",
    "        print(\"object is deleted but organization still exit!\")"
   ]
  },
  {
   "cell_type": "code",
   "execution_count": 58,
   "id": "d33c0dd2",
   "metadata": {},
   "outputs": [
    {
     "name": "stdout",
     "output_type": "stream",
     "text": [
      "object is deleted but organization still exit!\n"
     ]
    }
   ],
   "source": [
    "e1 = employee(\"kamram\",\"clark\",\"controler\",0,45000)"
   ]
  },
  {
   "cell_type": "code",
   "execution_count": 59,
   "id": "cd45e7d5",
   "metadata": {},
   "outputs": [
    {
     "name": "stdout",
     "output_type": "stream",
     "text": [
      "45000\n"
     ]
    }
   ],
   "source": [
    "e1.is_salary()"
   ]
  },
  {
   "cell_type": "code",
   "execution_count": 51,
   "id": "715f1078",
   "metadata": {},
   "outputs": [
    {
     "name": "stdout",
     "output_type": "stream",
     "text": [
      "Organization working on A.I projects\n"
     ]
    }
   ],
   "source": [
    "e1.is_working()"
   ]
  },
  {
   "cell_type": "markdown",
   "id": "45d0b910",
   "metadata": {},
   "source": [
    "# Q.3"
   ]
  },
  {
   "cell_type": "code",
   "execution_count": 56,
   "id": "11ebe7c3",
   "metadata": {},
   "outputs": [],
   "source": [
    "class mammal:\n",
    "    def __init__(self,color,eat,sleep):\n",
    "        self.color = color\n",
    "        self.eat = eat\n",
    "        self.sleep = sleep\n",
    "    def is_eat(self):\n",
    "        if self.eat == True:\n",
    "            print(\"is eating\")\n",
    "            "
   ]
  },
  {
   "cell_type": "code",
   "execution_count": null,
   "id": "5dc59a26",
   "metadata": {},
   "outputs": [],
   "source": [
    "class fish:\n",
    "    \n",
    "    "
   ]
  }
 ],
 "metadata": {
  "kernelspec": {
   "display_name": "Python 3 (ipykernel)",
   "language": "python",
   "name": "python3"
  },
  "language_info": {
   "codemirror_mode": {
    "name": "ipython",
    "version": 3
   },
   "file_extension": ".py",
   "mimetype": "text/x-python",
   "name": "python",
   "nbconvert_exporter": "python",
   "pygments_lexer": "ipython3",
   "version": "3.9.7"
  }
 },
 "nbformat": 4,
 "nbformat_minor": 5
}
