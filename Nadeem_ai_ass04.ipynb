{
 "cells": [
  {
   "cell_type": "markdown",
   "id": "5b903528",
   "metadata": {},
   "source": [
    "# Activity 1:"
   ]
  },
  {
   "cell_type": "markdown",
   "id": "1af70e62",
   "metadata": {},
   "source": [
    "# classes"
   ]
  },
  {
   "cell_type": "code",
   "execution_count": 1,
   "id": "39f6cbe0",
   "metadata": {},
   "outputs": [],
   "source": [
    "class door:\n",
    "    def __init__(self,w,h,p,c):\n",
    "        self.width = w\n",
    "        self.height = h\n",
    "        self.position = p\n",
    "        self.color = c\n",
    "    def open(self):\n",
    "        if self.position == 0:\n",
    "            self.position = 90\n",
    "    def close(self):\n",
    "        if self.position == 90:\n",
    "            self.position = 0\n"
   ]
  },
  {
   "cell_type": "code",
   "execution_count": 2,
   "id": "8861031a",
   "metadata": {},
   "outputs": [],
   "source": [
    "front_D = door(6,5,0,\"red\")"
   ]
  },
  {
   "cell_type": "code",
   "execution_count": 4,
   "id": "fc45aa24",
   "metadata": {},
   "outputs": [],
   "source": [
    "front_D.open()"
   ]
  },
  {
   "cell_type": "code",
   "execution_count": 5,
   "id": "33b45df7",
   "metadata": {},
   "outputs": [
    {
     "data": {
      "text/plain": [
       "90"
      ]
     },
     "execution_count": 5,
     "metadata": {},
     "output_type": "execute_result"
    }
   ],
   "source": [
    "front_D.position"
   ]
  },
  {
   "cell_type": "code",
   "execution_count": 6,
   "id": "9989b1bb",
   "metadata": {},
   "outputs": [],
   "source": [
    "front_D.close()"
   ]
  },
  {
   "cell_type": "code",
   "execution_count": 7,
   "id": "223df62e",
   "metadata": {},
   "outputs": [
    {
     "data": {
      "text/plain": [
       "0"
      ]
     },
     "execution_count": 7,
     "metadata": {},
     "output_type": "execute_result"
    }
   ],
   "source": [
    "front_D.position"
   ]
  },
  {
   "cell_type": "markdown",
   "id": "d66ee457",
   "metadata": {},
   "source": [
    "## class.1"
   ]
  },
  {
   "cell_type": "code",
   "execution_count": 50,
   "id": "c3b29043",
   "metadata": {},
   "outputs": [],
   "source": [
    "class human:\n",
    "    def __init__(self,name,h,w,p,c,f):\n",
    "        self.name = name\n",
    "        self.height = h\n",
    "        self.weight = w\n",
    "        self.position = p\n",
    "        self.color = c\n",
    "        self.fire = f\n",
    "    \n",
    "    def details():\n",
    "        print(\"hello my name is {} and my skin color is {}\".format(self.name , self.color))\n",
    "    \n",
    "    def movefront(self):\n",
    "        if self.position == 0:\n",
    "            self.position = 180\n",
    "        elif self.position == 90:\n",
    "            self.position = 270\n",
    "    \n",
    "    def moveback(self):\n",
    "        if self.position == 180:\n",
    "            self.position = 0\n",
    "        elif self.position ==270:\n",
    "            self.position = 90\n",
    "    \n",
    "    def sit(self):\n",
    "        if self.height == 6:\n",
    "            self.height = 2\n",
    "    \n",
    "    def stand(self):\n",
    "        if self.height == 2:\n",
    "            self.height = 6\n",
    "    \n",
    "    def fire_on(self):\n",
    "        if self.fire == False:\n",
    "            self.fire = True\n",
    "    \n",
    "    def fire_off(self):\n",
    "        if self.fire == True:\n",
    "            self.fire = False"
   ]
  },
  {
   "cell_type": "code",
   "execution_count": 55,
   "id": "55a980e0",
   "metadata": {},
   "outputs": [],
   "source": [
    "hassan = human(\"hassan\",6,45,0,\"brown\",False)"
   ]
  },
  {
   "cell_type": "code",
   "execution_count": 56,
   "id": "5ec83fea",
   "metadata": {},
   "outputs": [
    {
     "name": "stdout",
     "output_type": "stream",
     "text": [
      "hello my name is hassan and my skin color is brown\n"
     ]
    }
   ],
   "source": [
    "hassan.myfunction()"
   ]
  },
  {
   "cell_type": "code",
   "execution_count": 57,
   "id": "503bd772",
   "metadata": {},
   "outputs": [
    {
     "data": {
      "text/plain": [
       "180"
      ]
     },
     "execution_count": 57,
     "metadata": {},
     "output_type": "execute_result"
    }
   ],
   "source": [
    "hassan.movefront()\n",
    "hassan.position"
   ]
  },
  {
   "cell_type": "code",
   "execution_count": 58,
   "id": "6f68a95f",
   "metadata": {},
   "outputs": [
    {
     "data": {
      "text/plain": [
       "0"
      ]
     },
     "execution_count": 58,
     "metadata": {},
     "output_type": "execute_result"
    }
   ],
   "source": [
    "hassan.moveback()\n",
    "hassan.position"
   ]
  },
  {
   "cell_type": "code",
   "execution_count": 59,
   "id": "86d89c0a",
   "metadata": {},
   "outputs": [
    {
     "data": {
      "text/plain": [
       "2"
      ]
     },
     "execution_count": 59,
     "metadata": {},
     "output_type": "execute_result"
    }
   ],
   "source": [
    "hassan.sit()\n",
    "hassan.height"
   ]
  },
  {
   "cell_type": "code",
   "execution_count": 60,
   "id": "35cab7cf",
   "metadata": {},
   "outputs": [
    {
     "data": {
      "text/plain": [
       "6"
      ]
     },
     "execution_count": 60,
     "metadata": {},
     "output_type": "execute_result"
    }
   ],
   "source": [
    "hassan.stand()\n",
    "hassan.height"
   ]
  },
  {
   "cell_type": "code",
   "execution_count": 62,
   "id": "9666ad42",
   "metadata": {},
   "outputs": [
    {
     "data": {
      "text/plain": [
       "False"
      ]
     },
     "execution_count": 62,
     "metadata": {},
     "output_type": "execute_result"
    }
   ],
   "source": [
    "hassan.fire_off()\n",
    "hassan.fire"
   ]
  },
  {
   "cell_type": "code",
   "execution_count": 64,
   "id": "145bb12f",
   "metadata": {},
   "outputs": [
    {
     "data": {
      "text/plain": [
       "True"
      ]
     },
     "execution_count": 64,
     "metadata": {},
     "output_type": "execute_result"
    }
   ],
   "source": [
    "hassan.fire_on()\n",
    "hassan.fire"
   ]
  },
  {
   "cell_type": "code",
   "execution_count": null,
   "id": "95850fa1",
   "metadata": {},
   "outputs": [],
   "source": []
  },
  {
   "cell_type": "markdown",
   "id": "dfbc0936",
   "metadata": {},
   "source": [
    "## class.2"
   ]
  },
  {
   "cell_type": "code",
   "execution_count": 37,
   "id": "d52f3209",
   "metadata": {},
   "outputs": [],
   "source": [
    "class vahical:\n",
    "    def __init__(self,name,h,l,c,s,p):\n",
    "        self.name = name\n",
    "        self.height = h\n",
    "        self.lenght = l\n",
    "        self.colour = c\n",
    "        self.seats = s\n",
    "        self.position = p\n",
    "    def movefront(self):\n",
    "        if self.position == 0:\n",
    "            self.position = 180\n",
    "        elif self.position == 270:\n",
    "            self.position = 90\n",
    "    def moveback(self):\n",
    "        if self.position == 180:\n",
    "            self.position = 0\n",
    "        elif self.position == 90:\n",
    "            self.position = 270\n",
    "        "
   ]
  },
  {
   "cell_type": "code",
   "execution_count": 38,
   "id": "15a7b606",
   "metadata": {},
   "outputs": [],
   "source": [
    "civic = vahical(\"civic\" , 3 , 9 , \"white\" , 4 , 0)"
   ]
  },
  {
   "cell_type": "code",
   "execution_count": 39,
   "id": "3d95442c",
   "metadata": {},
   "outputs": [],
   "source": [
    "civic.movefront()"
   ]
  },
  {
   "cell_type": "code",
   "execution_count": 40,
   "id": "f1fe246a",
   "metadata": {},
   "outputs": [
    {
     "data": {
      "text/plain": [
       "180"
      ]
     },
     "execution_count": 40,
     "metadata": {},
     "output_type": "execute_result"
    }
   ],
   "source": [
    "civic.position"
   ]
  },
  {
   "cell_type": "code",
   "execution_count": 41,
   "id": "d51ed723",
   "metadata": {},
   "outputs": [],
   "source": [
    "civic.moveback()"
   ]
  },
  {
   "cell_type": "code",
   "execution_count": 42,
   "id": "86c7ec91",
   "metadata": {},
   "outputs": [
    {
     "data": {
      "text/plain": [
       "0"
      ]
     },
     "execution_count": 42,
     "metadata": {},
     "output_type": "execute_result"
    }
   ],
   "source": [
    "civic.position"
   ]
  },
  {
   "cell_type": "code",
   "execution_count": 43,
   "id": "417b144e",
   "metadata": {},
   "outputs": [
    {
     "data": {
      "text/plain": [
       "'white'"
      ]
     },
     "execution_count": 43,
     "metadata": {},
     "output_type": "execute_result"
    }
   ],
   "source": [
    "civic.colour"
   ]
  },
  {
   "cell_type": "code",
   "execution_count": 44,
   "id": "6399a8b4",
   "metadata": {},
   "outputs": [
    {
     "data": {
      "text/plain": [
       "3"
      ]
     },
     "execution_count": 44,
     "metadata": {},
     "output_type": "execute_result"
    }
   ],
   "source": [
    "civic.height"
   ]
  },
  {
   "cell_type": "markdown",
   "id": "db01dc4e",
   "metadata": {},
   "source": [
    "## Class.3"
   ]
  },
  {
   "cell_type": "code",
   "execution_count": 73,
   "id": "3977c1ed",
   "metadata": {},
   "outputs": [],
   "source": [
    "class gun:\n",
    "    def __init__(self,name,h,l,c,f,e,b,r):\n",
    "        self.name = name\n",
    "        self.height = h\n",
    "        self.length = l\n",
    "        self.colour = c\n",
    "        self.fire = f\n",
    "        self.enemy = e\n",
    "        self.bullat = b\n",
    "        self.relode = r\n",
    "    def fire_on(self):\n",
    "        if self.fire == self.enemy:\n",
    "            self.fire = True\n",
    "    def fire_off(self):\n",
    "        if self.fire != self.enemy:\n",
    "            self.fire = False\n",
    "    def relode_on(self):\n",
    "        if self.relode == self.bullat:\n",
    "            self.relode = True\n",
    "    def relode_off(self):\n",
    "        if self.relode != self.enemy:\n",
    "            self.relode = False\n",
    "    "
   ]
  },
  {
   "cell_type": "code",
   "execution_count": 74,
   "id": "884824be",
   "metadata": {},
   "outputs": [],
   "source": [
    "Ak47 = gun(\"Ak47\",0.3,1.5,\"black\",False,False,0,0)"
   ]
  },
  {
   "cell_type": "code",
   "execution_count": 75,
   "id": "c27c9c1e",
   "metadata": {},
   "outputs": [
    {
     "data": {
      "text/plain": [
       "True"
      ]
     },
     "execution_count": 75,
     "metadata": {},
     "output_type": "execute_result"
    }
   ],
   "source": [
    "Ak47.fire_on()\n",
    "Ak47.fire"
   ]
  },
  {
   "cell_type": "code",
   "execution_count": 76,
   "id": "bf45ae8e",
   "metadata": {},
   "outputs": [
    {
     "data": {
      "text/plain": [
       "False"
      ]
     },
     "execution_count": 76,
     "metadata": {},
     "output_type": "execute_result"
    }
   ],
   "source": [
    "Ak47.fire_off()\n",
    "Ak47.fire"
   ]
  },
  {
   "cell_type": "code",
   "execution_count": 77,
   "id": "bd88549a",
   "metadata": {},
   "outputs": [
    {
     "data": {
      "text/plain": [
       "True"
      ]
     },
     "execution_count": 77,
     "metadata": {},
     "output_type": "execute_result"
    }
   ],
   "source": [
    "Ak47.relode_on()\n",
    "Ak47.relode"
   ]
  },
  {
   "cell_type": "code",
   "execution_count": 78,
   "id": "838a00ba",
   "metadata": {},
   "outputs": [
    {
     "data": {
      "text/plain": [
       "False"
      ]
     },
     "execution_count": 78,
     "metadata": {},
     "output_type": "execute_result"
    }
   ],
   "source": [
    "Ak47.relode_off()\n",
    "Ak47.relode"
   ]
  },
  {
   "cell_type": "markdown",
   "id": "7d91638d",
   "metadata": {},
   "source": [
    "## class.4"
   ]
  },
  {
   "cell_type": "code",
   "execution_count": 85,
   "id": "0cc68a2a",
   "metadata": {},
   "outputs": [],
   "source": [
    "class ring:\n",
    "    def __init__(self,c,s,l,h,w,r):\n",
    "        self.colour = c\n",
    "        self.shape = s\n",
    "        self.length = l\n",
    "        self.height = h\n",
    "        self.weight = w\n",
    "        self.ring = r\n",
    "    def ring_on(self):\n",
    "        if self.ring == False:\n",
    "            self.ring = True\n",
    "    def ring_off(self):\n",
    "        if self.ring == True:\n",
    "            self.ring = False"
   ]
  },
  {
   "cell_type": "code",
   "execution_count": 86,
   "id": "637a842b",
   "metadata": {},
   "outputs": [],
   "source": [
    "Ring = ring(\"black\",\"round\",0.2,0.5,1,False)"
   ]
  },
  {
   "cell_type": "code",
   "execution_count": 87,
   "id": "f80c80c6",
   "metadata": {},
   "outputs": [
    {
     "data": {
      "text/plain": [
       "True"
      ]
     },
     "execution_count": 87,
     "metadata": {},
     "output_type": "execute_result"
    }
   ],
   "source": [
    "Ring.ring_on()\n",
    "Ring.ring"
   ]
  },
  {
   "cell_type": "code",
   "execution_count": 88,
   "id": "5d72b37b",
   "metadata": {},
   "outputs": [
    {
     "data": {
      "text/plain": [
       "False"
      ]
     },
     "execution_count": 88,
     "metadata": {},
     "output_type": "execute_result"
    }
   ],
   "source": [
    "Ring.ring_off()\n",
    "Ring.ring"
   ]
  },
  {
   "cell_type": "code",
   "execution_count": 89,
   "id": "514b627a",
   "metadata": {},
   "outputs": [
    {
     "data": {
      "text/plain": [
       "'black'"
      ]
     },
     "execution_count": 89,
     "metadata": {},
     "output_type": "execute_result"
    }
   ],
   "source": [
    "Ring.colour"
   ]
  },
  {
   "cell_type": "code",
   "execution_count": 90,
   "id": "07a3d6d3",
   "metadata": {},
   "outputs": [
    {
     "data": {
      "text/plain": [
       "'round'"
      ]
     },
     "execution_count": 90,
     "metadata": {},
     "output_type": "execute_result"
    }
   ],
   "source": [
    "Ring.shape"
   ]
  },
  {
   "cell_type": "code",
   "execution_count": 91,
   "id": "aae2796e",
   "metadata": {},
   "outputs": [
    {
     "data": {
      "text/plain": [
       "0.2"
      ]
     },
     "execution_count": 91,
     "metadata": {},
     "output_type": "execute_result"
    }
   ],
   "source": [
    "Ring.length"
   ]
  },
  {
   "cell_type": "markdown",
   "id": "10f5cef3",
   "metadata": {},
   "source": [
    "# Inheritance"
   ]
  },
  {
   "cell_type": "code",
   "execution_count": 5,
   "id": "1d13bae2",
   "metadata": {},
   "outputs": [
    {
     "name": "stdout",
     "output_type": "stream",
     "text": [
      "nadeem  your height is 5.6\n"
     ]
    }
   ],
   "source": [
    "class person:\n",
    "    def __init__(self, name, h):\n",
    "        self.name = name\n",
    "        self.height = h    \n",
    "    def name_1(self):\n",
    "        print(self.name , self.height)\n",
    "x = person(\"nadeem \",\"your height is 5.6\")\n",
    "x.name_1()"
   ]
  },
  {
   "cell_type": "code",
   "execution_count": 3,
   "id": "76e263c7",
   "metadata": {},
   "outputs": [],
   "source": [
    "class student(person):\n",
    "    pass"
   ]
  },
  {
   "cell_type": "code",
   "execution_count": null,
   "id": "d32ce460",
   "metadata": {},
   "outputs": [],
   "source": [
    "class student2(person):\n",
    "    pass"
   ]
  },
  {
   "cell_type": "code",
   "execution_count": 17,
   "id": "7c2e054c",
   "metadata": {},
   "outputs": [
    {
     "name": "stdout",
     "output_type": "stream",
     "text": [
      "abubakar your height is 5.6\n"
     ]
    }
   ],
   "source": [
    "x = student(\"abubakar\" , \"your height is 5.6\")\n",
    "x.name_1()"
   ]
  },
  {
   "cell_type": "markdown",
   "id": "1ef41957",
   "metadata": {},
   "source": [
    "# Activity 2:"
   ]
  },
  {
   "cell_type": "markdown",
   "id": "7b092052",
   "metadata": {},
   "source": [
    "## Multi-level Inheritence"
   ]
  },
  {
   "cell_type": "markdown",
   "id": "09903992",
   "metadata": {},
   "source": [
    "# Q.1"
   ]
  },
  {
   "cell_type": "code",
   "execution_count": 31,
   "id": "22e314d1",
   "metadata": {},
   "outputs": [],
   "source": [
    "import time\n",
    "class cake:\n",
    "    def __init__(self,floor, egg, sugar, milk, baking_soda):\n",
    "        self.floor = floor\n",
    "        self.egg = egg\n",
    "        self.sugar = sugar\n",
    "        self.milk = milk\n",
    "        self.baking_soda = baking_soda\n",
    "        self.temperature = 25\n",
    "        self.is_beating = False\n",
    "        self.is_mixed = False\n",
    "        self.is_baked = False\n",
    "    def beating_egg(self):\n",
    "        for i in range(5):\n",
    "            print(\"egg is beating\")\n",
    "            time.sleep(1)\n",
    "        self.is_beating = True\n",
    "        print(\"Its fomy\")\n",
    "    def mix(self):\n",
    "        if self.is_mixed == False and self.is_beating == True:\n",
    "            self.is_mixed = True\n",
    "            print(\"Its mixed\")\n",
    "        else:\n",
    "            print(\"Already mixed or beat first\")\n",
    "    def baked(self):\n",
    "        \n",
    "            while self.temperature <250:\n",
    "                self.temperature +=25\n",
    "                print(self.temperature)\n",
    "                time.sleep(1)\n",
    "            if self.mix == True:\n",
    "                self.is_backed = True\n",
    "            print(\"Cake is baked\")\n",
    "        "
   ]
  },
  {
   "cell_type": "code",
   "execution_count": 32,
   "id": "c1c36a4e",
   "metadata": {},
   "outputs": [],
   "source": [
    "cake1 = cake(\"2\",\"10\",\"2\",\"3\",\"1\")"
   ]
  },
  {
   "cell_type": "code",
   "execution_count": 33,
   "id": "cadf2d01",
   "metadata": {},
   "outputs": [
    {
     "name": "stdout",
     "output_type": "stream",
     "text": [
      "egg is beating\n",
      "egg is beating\n",
      "egg is beating\n",
      "egg is beating\n",
      "egg is beating\n",
      "Its fomy\n"
     ]
    }
   ],
   "source": [
    "cake1.beating_egg()"
   ]
  },
  {
   "cell_type": "code",
   "execution_count": 34,
   "id": "0ff71348",
   "metadata": {},
   "outputs": [
    {
     "name": "stdout",
     "output_type": "stream",
     "text": [
      "Its mixed\n"
     ]
    }
   ],
   "source": [
    "cake1.mix()"
   ]
  },
  {
   "cell_type": "code",
   "execution_count": 35,
   "id": "90a445ab",
   "metadata": {},
   "outputs": [
    {
     "name": "stdout",
     "output_type": "stream",
     "text": [
      "50\n",
      "75\n",
      "100\n",
      "125\n",
      "150\n",
      "175\n",
      "200\n",
      "225\n",
      "250\n",
      "Cake is baked\n"
     ]
    }
   ],
   "source": [
    "cake1.baked()"
   ]
  },
  {
   "cell_type": "code",
   "execution_count": 53,
   "id": "6b49a121",
   "metadata": {},
   "outputs": [],
   "source": [
    "class CreamCake:\n",
    "    def __init__(self,floor, egg, sugar, milk, baking_soda,cream):\n",
    "        cake.__init__(self,floor, egg, sugar, milk, baking_soda)\n",
    "        self.cream = cream\n",
    "        self.refrigerate = False\n",
    "    def add_cream(self):\n",
    "            if self.cream == False:\n",
    "                self.cream = True\n",
    "            print(\"Cream is added\")\n",
    "    def is_refrigerate(self):\n",
    "        if self.cream == True:\n",
    "            self.refrigerate = True\n",
    "        print(\"Cake is refrigerate\")"
   ]
  },
  {
   "cell_type": "code",
   "execution_count": 54,
   "id": "88955178",
   "metadata": {},
   "outputs": [],
   "source": [
    "CreamCake1 = CreamCake(\"2\",\"10\",\"2\",\"3\",\"1\",\"2\")"
   ]
  },
  {
   "cell_type": "code",
   "execution_count": 55,
   "id": "0f992488",
   "metadata": {},
   "outputs": [
    {
     "name": "stdout",
     "output_type": "stream",
     "text": [
      "Cream is added\n"
     ]
    }
   ],
   "source": [
    "CreamCake1.add_cream()"
   ]
  },
  {
   "cell_type": "code",
   "execution_count": 56,
   "id": "f05290f5",
   "metadata": {},
   "outputs": [
    {
     "name": "stdout",
     "output_type": "stream",
     "text": [
      "Cake is refrigerate\n"
     ]
    }
   ],
   "source": [
    "CreamCake1.is_refrigerate()"
   ]
  },
  {
   "cell_type": "code",
   "execution_count": 57,
   "id": "6fcd1260",
   "metadata": {},
   "outputs": [],
   "source": [
    "class CherryCreamCake:\n",
    "    def __init__(self,floor, egg, sugar, milk, baking_soda,cherry):\n",
    "        cake.__init__(self,floor, egg, sugar, milk, baking_soda)\n",
    "        self.cherry = cherry\n",
    "    def add_cherry(self):\n",
    "        if self.cherry == False:\n",
    "            self.cherry = True\n",
    "        print(\"cherry is added\")"
   ]
  },
  {
   "cell_type": "code",
   "execution_count": 58,
   "id": "479491c0",
   "metadata": {},
   "outputs": [],
   "source": [
    "CherryCreamCake1 = CherryCreamCake(\"2\",\"10\",\"2\",\"3\",\"1\",\"2\")"
   ]
  },
  {
   "cell_type": "code",
   "execution_count": 59,
   "id": "fa9daeb0",
   "metadata": {},
   "outputs": [
    {
     "name": "stdout",
     "output_type": "stream",
     "text": [
      "cherry is added\n"
     ]
    }
   ],
   "source": [
    "CherryCreamCake1.add_cherry()"
   ]
  },
  {
   "cell_type": "markdown",
   "id": "242ed233",
   "metadata": {},
   "source": [
    "# Hierarchical Inheritence"
   ]
  },
  {
   "cell_type": "markdown",
   "id": "e9e951a8",
   "metadata": {},
   "source": [
    "# Q.2"
   ]
  },
  {
   "cell_type": "code",
   "execution_count": 2,
   "id": "3c636825",
   "metadata": {},
   "outputs": [],
   "source": [
    "class Animal:\n",
    "    \n",
    "#     instructor\n",
    "\n",
    "    def __init__(self,position,food,height,length,color):\n",
    "        self.position = position\n",
    "        self.food = food\n",
    "        self.height = height\n",
    "        self.length  = length\n",
    "        self.color = color\n",
    "        self.alive = False\n",
    "        self.eat = \"grass or meat\"\n",
    "        self.drink = False\n",
    "        self.sleep = False\n",
    "\n",
    "#    methods \n",
    "        \n",
    "    def is_alive(self):\n",
    "        if self.alive == False and self.position == \"1\" or self.position == \"0\":\n",
    "            self.alive = True\n",
    "        print(\"object is alive!\")\n",
    "        \n",
    "    def is_eat(self):\n",
    "        if self.alive == True and self.position == \"1\" or self.position == \"0\":\n",
    "            self.eat = \"grass or meat\"\n",
    "#         print(\"object eating\")\n",
    "        \n",
    "    def is_drink(self):\n",
    "        if self.alive == True and self.position == \"1\" or self.position == \"0\":\n",
    "            self.drink = True\n",
    "#         print(\"object drinking water or any other liquied\")\n",
    "    \n",
    "    "
   ]
  },
  {
   "cell_type": "code",
   "execution_count": 28,
   "id": "539562ed",
   "metadata": {},
   "outputs": [],
   "source": [
    "# class of Herbivorous\n",
    "\n",
    "class Herbivorous(Animal):\n",
    "    \n",
    "#     instructor\n",
    "\n",
    "    def __init__(self,position,food,height,length,color,grass):\n",
    "        Animal.__init__(self,position,food,height,length,color)\n",
    "        \n",
    "#         data membors\n",
    "\n",
    "        self.grass = grass\n",
    "    \n",
    "#     methods\n",
    "\n",
    "    def is_eat(self):\n",
    "        s = str(Animal.is_eat(self))\n",
    "        return \"Eat grass\"\n",
    "    \n",
    "    def is_drink(self):\n",
    "        d = str(Animal.is_drink(self))\n",
    "        return \"Drink water\""
   ]
  },
  {
   "cell_type": "code",
   "execution_count": 34,
   "id": "49ccea20",
   "metadata": {},
   "outputs": [],
   "source": [
    "class Cow(Herbivorous):\n",
    "    \n",
    "#     instructor\n",
    "\n",
    "    def __init__(self,position,food,height,length,color,grass,milk):\n",
    "        Herbivorous.__init__(self,position,food,height,length,color,grass)\n",
    "        \n",
    "#         data mem\n",
    "\n",
    "        self.milk = milk\n",
    "    \n",
    "#     methodes\n",
    "    \n",
    "    def give_milk(self):\n",
    "        print(\"cow gives milk!\")"
   ]
  },
  {
   "cell_type": "code",
   "execution_count": 39,
   "id": "7a83d3a6",
   "metadata": {},
   "outputs": [],
   "source": [
    "class SahiwalCow(Cow):\n",
    "    \n",
    "#     instructor\n",
    "    \n",
    "    def __init__(self,position,food,height,length,color,grass,milk,hump):\n",
    "        Cow.__init__(self,position,food,height,length,color,grass,milk)\n",
    "        \n",
    "#         data mem\n",
    "        self.hump = hump\n",
    "\n",
    "# methodes\n",
    "\n",
    "    def has_hump(self):\n",
    "        print(\"SahiwalCow has hump\")"
   ]
  },
  {
   "cell_type": "code",
   "execution_count": 40,
   "id": "a42ae05b",
   "metadata": {},
   "outputs": [],
   "source": [
    "cow1 = cow(\"1\",True,\"3\",\"4\",\"black\",\"grass\",True)"
   ]
  },
  {
   "cell_type": "code",
   "execution_count": 41,
   "id": "6f25b138",
   "metadata": {},
   "outputs": [
    {
     "name": "stdout",
     "output_type": "stream",
     "text": [
      "cow gives milk!\n"
     ]
    }
   ],
   "source": [
    "cow1.give_milk()"
   ]
  },
  {
   "cell_type": "code",
   "execution_count": 42,
   "id": "37fd17d5",
   "metadata": {},
   "outputs": [
    {
     "data": {
      "text/plain": [
       "'Drink water'"
      ]
     },
     "execution_count": 42,
     "metadata": {},
     "output_type": "execute_result"
    }
   ],
   "source": [
    "cow1.is_drink()"
   ]
  },
  {
   "cell_type": "code",
   "execution_count": 43,
   "id": "25ed9866",
   "metadata": {},
   "outputs": [
    {
     "data": {
      "text/plain": [
       "'Eat grass'"
      ]
     },
     "execution_count": 43,
     "metadata": {},
     "output_type": "execute_result"
    }
   ],
   "source": [
    "cow1.is_eat()"
   ]
  },
  {
   "cell_type": "code",
   "execution_count": 44,
   "id": "8f39597e",
   "metadata": {},
   "outputs": [],
   "source": [
    "SahiwalCow1 = SahiwalCow(\"1\",True,\"4\",\"5\",\"blue\",\"grass\",True,True)"
   ]
  },
  {
   "cell_type": "code",
   "execution_count": 45,
   "id": "c8fe66c1",
   "metadata": {},
   "outputs": [
    {
     "name": "stdout",
     "output_type": "stream",
     "text": [
      "SahiwalCow has hump\n"
     ]
    }
   ],
   "source": [
    "SahiwalCow1.has_hump()"
   ]
  },
  {
   "cell_type": "code",
   "execution_count": 49,
   "id": "0ad89c9b",
   "metadata": {},
   "outputs": [],
   "source": [
    "class Carnivorous(Animal):\n",
    "    \n",
    "#     instructor\n",
    "\n",
    "    def __init__(self,position,food,height,length,color,meat):\n",
    "        Animal.__init__(self,position,food,height,length,color)\n",
    "            \n",
    "#     Data mem\n",
    "\n",
    "        self.meat = meat\n",
    "    \n",
    "#     methodes\n",
    "\n",
    "    def is_eat(self):\n",
    "        s = str(Animal.is_eat(self))\n",
    "        return \"Eat meat\"\n",
    "    \n",
    "    def is_drink(self):\n",
    "        d = str(Animal.is_drink(self))\n",
    "        return \"Drink water or blood\""
   ]
  },
  {
   "cell_type": "code",
   "execution_count": 50,
   "id": "f72ef31b",
   "metadata": {},
   "outputs": [],
   "source": [
    "Lion = Carnivorous(\"1\",True,\"4\",\"5\",\"yellow\",\"meat\")"
   ]
  },
  {
   "cell_type": "code",
   "execution_count": 51,
   "id": "78774781",
   "metadata": {},
   "outputs": [
    {
     "data": {
      "text/plain": [
       "'Eat meat'"
      ]
     },
     "execution_count": 51,
     "metadata": {},
     "output_type": "execute_result"
    }
   ],
   "source": [
    "Lion.is_eat()"
   ]
  },
  {
   "cell_type": "code",
   "execution_count": 52,
   "id": "d33248c2",
   "metadata": {},
   "outputs": [
    {
     "data": {
      "text/plain": [
       "'Drink water or blood'"
      ]
     },
     "execution_count": 52,
     "metadata": {},
     "output_type": "execute_result"
    }
   ],
   "source": [
    "Lion.is_drink()"
   ]
  },
  {
   "cell_type": "markdown",
   "id": "dd556ff7",
   "metadata": {},
   "source": [
    "# Q.3"
   ]
  },
  {
   "cell_type": "code",
   "execution_count": 53,
   "id": "a8ba0388",
   "metadata": {},
   "outputs": [],
   "source": [
    "class Animal:\n",
    "    \n",
    "#     instructor\n",
    "\n",
    "    def __init__(self,position,food,height,length,color):\n",
    "        self.position = position\n",
    "        self.food = food\n",
    "        self.height = height\n",
    "        self.length  = length\n",
    "        self.color = color\n",
    "        self.alive = False\n",
    "        self.eat = \"grass or meat\"\n",
    "        self.drink = False\n",
    "        self.sleep = False\n",
    "\n",
    "#    methods \n",
    "        \n",
    "    def is_alive(self):\n",
    "        if self.alive == False and self.position == \"1\" or self.position == \"0\":\n",
    "            self.alive = True\n",
    "        print(\"object is alive!\")\n",
    "        \n",
    "    def is_eat(self):\n",
    "        if self.alive == True and self.position == \"1\" or self.position == \"0\":\n",
    "            self.eat = \"grass or meat\"\n",
    "#         print(\"object eating\")\n",
    "        \n",
    "    def is_drink(self):\n",
    "        if self.alive == True and self.position == \"1\" or self.position == \"0\":\n",
    "            self.drink = True\n",
    "#         print(\"object drinking water or any other liquied\")"
   ]
  },
  {
   "cell_type": "code",
   "execution_count": 54,
   "id": "0a6dd6b5",
   "metadata": {},
   "outputs": [],
   "source": [
    "# class of Herbivorous\n",
    "\n",
    "class Herbivorous(Animal):\n",
    "    \n",
    "#     instructor\n",
    "\n",
    "    def __init__(self,position,food,height,length,color,grass):\n",
    "        Animal.__init__(self,position,food,height,length,color)\n",
    "        \n",
    "#         data membors\n",
    "\n",
    "        self.grass = grass\n",
    "    \n",
    "#     methods\n",
    "\n",
    "    def is_eat(self):\n",
    "        s = str(Animal.is_eat(self))\n",
    "        return \"Eat grass\"\n",
    "    \n",
    "    def is_drink(self):\n",
    "        d = str(Animal.is_drink(self))\n",
    "        return \"Drink water\""
   ]
  },
  {
   "cell_type": "code",
   "execution_count": 55,
   "id": "e8405021",
   "metadata": {},
   "outputs": [],
   "source": [
    "class Carnivorous(Animal):\n",
    "    \n",
    "#     instructor\n",
    "\n",
    "    def __init__(self,position,food,height,length,color,meat):\n",
    "        Animal.__init__(self,position,food,height,length,color)\n",
    "            \n",
    "#     Data mem\n",
    "\n",
    "        self.meat = meat\n",
    "    \n",
    "#     methodes\n",
    "\n",
    "    def is_eat(self):\n",
    "        s = str(Animal.is_eat(self))\n",
    "        return \"Eat meat\"\n",
    "    \n",
    "    def is_drink(self):\n",
    "        d = str(Animal.is_drink(self))\n",
    "        return \"Drink water or blood\""
   ]
  },
  {
   "cell_type": "code",
   "execution_count": 58,
   "id": "902ee45f",
   "metadata": {},
   "outputs": [],
   "source": [
    "class Omnivorous(Herbivorous,Carnivorous):\n",
    "    pass"
   ]
  }
 ],
 "metadata": {
  "kernelspec": {
   "display_name": "Python 3 (ipykernel)",
   "language": "python",
   "name": "python3"
  },
  "language_info": {
   "codemirror_mode": {
    "name": "ipython",
    "version": 3
   },
   "file_extension": ".py",
   "mimetype": "text/x-python",
   "name": "python",
   "nbconvert_exporter": "python",
   "pygments_lexer": "ipython3",
   "version": "3.9.7"
  }
 },
 "nbformat": 4,
 "nbformat_minor": 5
}
