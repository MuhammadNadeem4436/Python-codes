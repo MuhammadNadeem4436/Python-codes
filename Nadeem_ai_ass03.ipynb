{
 "cells": [
  {
   "cell_type": "markdown",
   "id": "4004d6e7",
   "metadata": {},
   "source": [
    "# Q.1"
   ]
  },
  {
   "cell_type": "code",
   "execution_count": 1,
   "id": "a9b6bec2",
   "metadata": {},
   "outputs": [],
   "source": [
    "def average(x):\n",
    "    average = sum(x)/len(x)\n",
    "    return average\n"
   ]
  },
  {
   "cell_type": "code",
   "execution_count": 2,
   "id": "5a6b3784",
   "metadata": {},
   "outputs": [
    {
     "data": {
      "text/plain": [
       "3.5"
      ]
     },
     "execution_count": 2,
     "metadata": {},
     "output_type": "execute_result"
    }
   ],
   "source": [
    "lst = [2,3,4,5]\n",
    "average(lst)"
   ]
  },
  {
   "cell_type": "markdown",
   "id": "193b65f1",
   "metadata": {},
   "source": [
    "# Q.2"
   ]
  },
  {
   "cell_type": "code",
   "execution_count": 3,
   "id": "5fd74214",
   "metadata": {},
   "outputs": [],
   "source": [
    "def isin(string , substring):\n",
    "    for i in range(len(string)):\n",
    "        print(string[i:len(substring)+i])\n",
    "        if string[i:len(substring)+i] == substring:\n",
    "            return 'Found'\n",
    "    return 'Not Found'"
   ]
  },
  {
   "cell_type": "code",
   "execution_count": 4,
   "id": "3e5a882a",
   "metadata": {},
   "outputs": [
    {
     "name": "stdout",
     "output_type": "stream",
     "text": [
      "muhamm\n",
      "uhamma\n",
      "hammad\n",
      "ammadn\n",
      "mmadna\n",
      "madnad\n",
      "adnade\n",
      "dnadee\n",
      "nadeem\n"
     ]
    },
    {
     "data": {
      "text/plain": [
       "'Found'"
      ]
     },
     "execution_count": 4,
     "metadata": {},
     "output_type": "execute_result"
    }
   ],
   "source": [
    "isin('muhammadnadeem' , 'nadeem')"
   ]
  },
  {
   "cell_type": "markdown",
   "id": "98becf24",
   "metadata": {},
   "source": [
    "# Q.3"
   ]
  },
  {
   "cell_type": "code",
   "execution_count": 5,
   "id": "f19ea7b0",
   "metadata": {},
   "outputs": [
    {
     "name": "stdout",
     "output_type": "stream",
     "text": [
      "nadeem is a good boy \n"
     ]
    }
   ],
   "source": [
    "def name(iname , jname):\n",
    "    print(iname + \" is a good boy \")\n",
    "name(iname = \"nadeem\" , jname = \"abubakar\")"
   ]
  },
  {
   "cell_type": "code",
   "execution_count": 6,
   "id": "0615f951",
   "metadata": {},
   "outputs": [
    {
     "name": "stdout",
     "output_type": "stream",
     "text": [
      "abubakar \n"
     ]
    }
   ],
   "source": [
    "def name1(*k):\n",
    "    print(k[1] + \" \")\n",
    "name1(\"nadeem\",\"abubakar\")"
   ]
  },
  {
   "cell_type": "markdown",
   "id": "04d735c5",
   "metadata": {},
   "source": [
    "# Q.4"
   ]
  },
  {
   "cell_type": "code",
   "execution_count": 7,
   "id": "93d03f64",
   "metadata": {},
   "outputs": [
    {
     "name": "stdout",
     "output_type": "stream",
     "text": [
      "Hi nadeem and abubakar\n"
     ]
    }
   ],
   "source": [
    "def name(x,y):\n",
    "    def name2():\n",
    "        return x +\" and \" + y\n",
    "    print(\"Hi \" + name2()) \n",
    "name('nadeem' , 'abubakar')"
   ]
  },
  {
   "cell_type": "markdown",
   "id": "25b6a51b",
   "metadata": {},
   "source": [
    "# File Hedling"
   ]
  },
  {
   "cell_type": "markdown",
   "id": "02bce5b7",
   "metadata": {},
   "source": [
    "# Q.1"
   ]
  },
  {
   "cell_type": "code",
   "execution_count": 8,
   "id": "22743709",
   "metadata": {},
   "outputs": [
    {
     "name": "stdout",
     "output_type": "stream",
     "text": [
      "For write enter 1 and For read enter 2 and For quite enter done!\n",
      "What i can do for you!\n",
      "For write enter 1 and For read enter 2 and For quite enter done!\n",
      "What i can do for you!done\n",
      "Thank You! Budy\n"
     ]
    }
   ],
   "source": [
    "while True:\n",
    "    print(\"For write enter 1 and For read enter 2 and For quite enter done!\")\n",
    "    com = input(\"What i can do for you!\")\n",
    "    if com == '1':\n",
    "        Student_Id  = input(\"id:\")\n",
    "        Name = input(\"Name:\")\n",
    "        Father_name = input(\"Father name:\")\n",
    "        DOB = input(\"D.O.B:\")\n",
    "        Hobbies = input(\"Hobbies:\")\n",
    "        Occopation = input(\"Occopation:\")\n",
    "        Address = input(\"Address:\")\n",
    "        \n",
    "        Record = {Student_Id :{\"Name\":Name , \"Father_name\":Father_name , \"D.O.B\":DOB ,\n",
    "                              \"Hobbies\":Hobbies , \"Occopation\":Occopation , \"Address\":Address}}\n",
    "        \n",
    "        file = open(\"Data_file.txt\", \"a\")\n",
    "        file.write(str(Record)+\"\\n\")\n",
    "        file.close()\n",
    "        \n",
    "    elif com == 'done' or com == 'Done' or com == 'DONE':\n",
    "        print(\"Thank You! Budy\")\n",
    "        break\n",
    "        \n",
    "    elif com == '2':\n",
    "        file = open(\"Data_file.txt\" , \"r\")\n",
    "        Data = file.readlines()\n",
    "        file.close()\n",
    "        com2 = input(\"Student id\")\n",
    "        for Record in Data:\n",
    "            Record = eval(Record)\n",
    "            if com2 in Record.keys():\n",
    "                Data2 = Record[com2]\n",
    "                print(Data2)"
   ]
  },
  {
   "cell_type": "markdown",
   "id": "5140d076",
   "metadata": {},
   "source": [
    "# Q.2"
   ]
  },
  {
   "cell_type": "code",
   "execution_count": 9,
   "id": "88efcd54",
   "metadata": {},
   "outputs": [],
   "source": [
    "file = open(\"Short_Summary.txt\" , \"w\")\n",
    "file.write(\"A summary, also known as an abstract, precis, or synopsis, is a shortened version of a text that highlights its key points. The word summary comes from the Latin\")\n",
    "file.close()\n"
   ]
  },
  {
   "cell_type": "code",
   "execution_count": 10,
   "id": "cfe1ca05",
   "metadata": {},
   "outputs": [
    {
     "name": "stdout",
     "output_type": "stream",
     "text": [
      "summary 1\n",
      "known 1\n",
      "precis, 1\n",
      "version 1\n",
      "an 1\n",
      "its 1\n",
      "of 1\n",
      "comes 1\n",
      "text 1\n",
      "highlights 1\n",
      "points. 1\n",
      "key 1\n",
      "from 1\n",
      "or 1\n",
      "also 1\n",
      "is 1\n",
      "a 2\n",
      "shortened 1\n",
      "The 1\n",
      "that 1\n",
      "as 1\n",
      "Latin 1\n",
      "synopsis, 1\n",
      "A 1\n",
      "abstract, 1\n",
      "word 1\n",
      "the 1\n",
      "summary, 1\n"
     ]
    }
   ],
   "source": [
    "file = open(\"Short_Summary.txt\" , \"r\")\n",
    "line = file.read()\n",
    "words = line.split(\" \")\n",
    "u_word = set(words)\n",
    "# count = 0\n",
    "for word in u_word:\n",
    "    count = 0\n",
    "    for c_word in words:\n",
    "        if word == c_word:\n",
    "            count = count+1\n",
    "    print(word , count)\n",
    "# # print(a) \n",
    "# # count = 0\n",
    "# for b in a:\n",
    "#     c = b.count(\"n\")\n",
    "# #     count = c+1\n",
    "#     print(c)"
   ]
  },
  {
   "cell_type": "markdown",
   "id": "e9054023",
   "metadata": {},
   "source": [
    "# Q.3"
   ]
  },
  {
   "cell_type": "code",
   "execution_count": 11,
   "id": "60f4cfcd",
   "metadata": {},
   "outputs": [],
   "source": [
    "file = open('Line_Number.txt' , 'w')\n",
    "file.write(\"Muhmmad nadeem akram\\n\")\n",
    "file.write(\"Muhammad abubakar mukhtiar\\n\")\n",
    "file.write(\"Awais khan\\n\")\n",
    "file.write(\"Muhammad faizan\\n\")\n",
    "file.write(\"Huzaifa yaman\\n\")\n",
    "file.write(\"Abdulrehman\\n\")\n",
    "file.write(\"Shoaib ur rehman\\n\")\n",
    "file.close()"
   ]
  },
  {
   "cell_type": "code",
   "execution_count": 12,
   "id": "e370b45d",
   "metadata": {},
   "outputs": [
    {
     "name": "stdout",
     "output_type": "stream",
     "text": [
      "1 : Muhammad abubakar mukhtiar\n",
      "\n",
      "2 : Awais khan\n",
      "\n",
      "3 : Muhammad faizan\n",
      "\n",
      "4 : Huzaifa yaman\n",
      "\n",
      "5 : Abdulrehman\n",
      "\n",
      "6 : Shoaib ur rehman\n",
      "\n"
     ]
    }
   ],
   "source": [
    "file = open('Line_Number.txt' , 'r')\n",
    "line = file.readline()\n",
    "count = 1\n",
    "for line in file:\n",
    "    print(count,\":\",line)\n",
    "    count += 1\n"
   ]
  },
  {
   "cell_type": "markdown",
   "id": "3ffc579c",
   "metadata": {},
   "source": [
    "# Exception Handling"
   ]
  },
  {
   "cell_type": "markdown",
   "id": "a3548d0e",
   "metadata": {},
   "source": [
    "# Q.1"
   ]
  },
  {
   "cell_type": "code",
   "execution_count": 13,
   "id": "d66b96e6",
   "metadata": {},
   "outputs": [
    {
     "name": "stdout",
     "output_type": "stream",
     "text": [
      "Name Error!\n"
     ]
    }
   ],
   "source": [
    "# NameError\n",
    "x = (\"nadeem\" , \"abubakar\" , \"faizan\")\n",
    "try:\n",
    "    print(y)\n",
    "except NameError:\n",
    "    print(\"Name Error!\")"
   ]
  },
  {
   "cell_type": "code",
   "execution_count": null,
   "id": "a933184a",
   "metadata": {},
   "outputs": [],
   "source": []
  },
  {
   "cell_type": "code",
   "execution_count": 14,
   "id": "3d5bb6d7",
   "metadata": {},
   "outputs": [
    {
     "name": "stdout",
     "output_type": "stream",
     "text": [
      "44\n",
      "Enter value 44\n"
     ]
    }
   ],
   "source": [
    "# ValueError\n",
    "try:\n",
    "    value = int(input())\n",
    "    print(\"Enter value\" , value)\n",
    "except:\n",
    "    print(\"Error! value must be a integer\")"
   ]
  },
  {
   "cell_type": "code",
   "execution_count": null,
   "id": "515c18e1",
   "metadata": {},
   "outputs": [],
   "source": [
    "# IndexError\n",
    "try:\n",
    "    name = (\"nadeem\" , \"abubakar\" , \"fiazan\" , \"awias khan\" , \"huzaifa\" , \"shoaib\" , \"abdul rehman\")\n",
    "    user = int(input())\n",
    "    index = name[user]\n",
    "    print(\"Found\",name[user])\n",
    "except IndexError:\n",
    "    print(\"Index Error\")\n",
    "    "
   ]
  },
  {
   "cell_type": "code",
   "execution_count": null,
   "id": "80fee034",
   "metadata": {},
   "outputs": [],
   "source": []
  }
 ],
 "metadata": {
  "kernelspec": {
   "display_name": "Python 3 (ipykernel)",
   "language": "python",
   "name": "python3"
  },
  "language_info": {
   "codemirror_mode": {
    "name": "ipython",
    "version": 3
   },
   "file_extension": ".py",
   "mimetype": "text/x-python",
   "name": "python",
   "nbconvert_exporter": "python",
   "pygments_lexer": "ipython3",
   "version": "3.9.7"
  }
 },
 "nbformat": 4,
 "nbformat_minor": 5
}
