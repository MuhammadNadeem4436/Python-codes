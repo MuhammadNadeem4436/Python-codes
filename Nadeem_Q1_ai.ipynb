{
 "cells": [
  {
   "cell_type": "markdown",
   "id": "9d96ea11",
   "metadata": {},
   "source": [
    "## Q.1"
   ]
  },
  {
   "cell_type": "code",
   "execution_count": null,
   "id": "55f6bc79",
   "metadata": {},
   "outputs": [],
   "source": [
    "# We have a string \"I am studying hard to learn AI and BD\" and we want to\n",
    "# make a new string from this one.The new string should look like \"studying learn and\""
   ]
  },
  {
   "cell_type": "code",
   "execution_count": 4,
   "id": "026bedb6",
   "metadata": {},
   "outputs": [],
   "source": [
    "str_1 = \"I am studying hard to learn AI and BD\""
   ]
  },
  {
   "cell_type": "code",
   "execution_count": 5,
   "id": "4a89c2ae",
   "metadata": {},
   "outputs": [
    {
     "data": {
      "text/plain": [
       "5"
      ]
     },
     "execution_count": 5,
     "metadata": {},
     "output_type": "execute_result"
    }
   ],
   "source": [
    "str_1.find(\"studying\")"
   ]
  },
  {
   "cell_type": "code",
   "execution_count": 11,
   "id": "b499a0a3",
   "metadata": {},
   "outputs": [
    {
     "data": {
      "text/plain": [
       "22"
      ]
     },
     "execution_count": 11,
     "metadata": {},
     "output_type": "execute_result"
    }
   ],
   "source": [
    "str_1.find(\"learn\")"
   ]
  },
  {
   "cell_type": "code",
   "execution_count": 15,
   "id": "00b3fdbc",
   "metadata": {},
   "outputs": [
    {
     "data": {
      "text/plain": [
       "31"
      ]
     },
     "execution_count": 15,
     "metadata": {},
     "output_type": "execute_result"
    }
   ],
   "source": [
    "str_1.find(\"and\")"
   ]
  },
  {
   "cell_type": "code",
   "execution_count": 18,
   "id": "dbf742e0",
   "metadata": {},
   "outputs": [
    {
     "data": {
      "text/plain": [
       "'studying learn and'"
      ]
     },
     "execution_count": 18,
     "metadata": {},
     "output_type": "execute_result"
    }
   ],
   "source": [
    "str_1[5:14]+ str_1[22:28] + str_1[31:34]"
   ]
  },
  {
   "cell_type": "code",
   "execution_count": null,
   "id": "a6340d5b",
   "metadata": {},
   "outputs": [],
   "source": []
  },
  {
   "cell_type": "markdown",
   "id": "d70d7dd5",
   "metadata": {},
   "source": [
    "## Q.2"
   ]
  },
  {
   "cell_type": "code",
   "execution_count": 2,
   "id": "892628b3",
   "metadata": {},
   "outputs": [
    {
     "name": "stdout",
     "output_type": "stream",
     "text": [
      "kg:56\n",
      "Pounds:  123.55839999999999\n"
     ]
    }
   ],
   "source": [
    "# Write a program that takes input from user in kilograms and convert it into pounds.\n",
    "# The formula for conversion is pound = kg * 2.2046\n",
    "\n",
    "kg = int(input(\"kg:\"))\n",
    "x = 2.2064\n",
    "pound = kg*x\n",
    "print(\"Pounds: \" , pound)"
   ]
  },
  {
   "cell_type": "markdown",
   "id": "fda711ce",
   "metadata": {},
   "source": [
    "## Q.3"
   ]
  },
  {
   "cell_type": "code",
   "execution_count": 38,
   "id": "e48d57b0",
   "metadata": {},
   "outputs": [
    {
     "name": "stdout",
     "output_type": "stream",
     "text": [
      "Enter your Marks:67\n",
      "Passed! 67\n"
     ]
    }
   ],
   "source": [
    "# Write a program that takes marks as input from the user. If the entered marks are greater than \n",
    "# 50,a message saying \"Passed\" is shown to the user otherwise,a message saying \"Failed\" is shown.\n",
    "\n",
    "Marks = int(input(\"Enter your Marks:\"))\n",
    "\n",
    "if Marks > 100:\n",
    "        print(\"Out of range!\")\n",
    "elif Marks > 50 or Marks == 50:\n",
    "    print(\"Passed!\" , Marks)\n",
    "else:\n",
    "    print(\"Failed!\" , Marks)"
   ]
  },
  {
   "cell_type": "markdown",
   "id": "1631fbf3",
   "metadata": {},
   "source": [
    "## Q.4"
   ]
  },
  {
   "cell_type": "code",
   "execution_count": 58,
   "id": "6094ad61",
   "metadata": {},
   "outputs": [
    {
     "name": "stdout",
     "output_type": "stream",
     "text": [
      "Write your weight in Kg:56\n",
      "Write your BMI:34\n",
      "Write your height:6\n",
      "Married or Single:Single\n",
      "Not Selected!\n"
     ]
    }
   ],
   "source": [
    "# user input\n",
    "weight = int(input(\"Write your weight in Kg:\"))\n",
    "BMI = int(input(\"Write your BMI:\"))\n",
    "height = int(input(\"Write your height:\"))\n",
    "M = input(\"Married or Single:\")\n",
    "\n",
    "# conditions\n",
    "\n",
    "# if someone with weight exceeding the limit applies and the person is married.\n",
    "\n",
    "if weight>50 and weight>100 and BMI>10 and BMI<20 and height>5 and M == \"Married\" or M != \"Single\":\n",
    "    print(\"Selected!\")\n",
    "    \n",
    "# BMI exceeding the mentioned limit applies and the person is married.\n",
    "\n",
    "elif weight>50 and weight<100 and BMI>10 and BMI>20 and height>5 and M == \"Married\" or M != \"Single\":\n",
    "    print(\"Selected!\")\n",
    "    \n",
    "\n",
    "# The physical requirements include weight between 50kg and 100kg,\n",
    "# BMI more than 10 but less than 20, and height more than 5 feet.\n",
    "\n",
    "elif weight>50 and weight<100 and BMI>10 and BMI<20 and height>5 :\n",
    "    print(\"Selected!\")\n",
    "else:\n",
    "    print(\"Not Selected!\")"
   ]
  },
  {
   "cell_type": "markdown",
   "id": "ff8dfeea",
   "metadata": {},
   "source": [
    "# Q.5"
   ]
  },
  {
   "cell_type": "code",
   "execution_count": 14,
   "id": "abaf9a11",
   "metadata": {},
   "outputs": [
    {
     "name": "stdout",
     "output_type": "stream",
     "text": [
      "['Abdullah', 'Waheed', 'Basim']\n",
      "['Tayyaba', 'Fatima', 'Hira']\n"
     ]
    }
   ],
   "source": [
    "names = ['Abdullah', 'Tayyaba', 'Waheed', 'Fatima', 'Basim', 'Hira']\n",
    "males = []\n",
    "females = []\n",
    "for i in range(len(names)):\n",
    "    if i%2 == 0:\n",
    "        males.append(names[i])\n",
    "    else:\n",
    "        females.append(names[i])\n",
    "print(males)\n",
    "print(females)"
   ]
  },
  {
   "cell_type": "markdown",
   "id": "ede7c130",
   "metadata": {},
   "source": [
    "## Q.6"
   ]
  },
  {
   "cell_type": "code",
   "execution_count": 32,
   "id": "553a9581",
   "metadata": {},
   "outputs": [
    {
     "name": "stdout",
     "output_type": "stream",
     "text": [
      "have equal number of characters:  ['hasan', 'ahmad', 'bilal']\n",
      "have equal number of characters:  ['tokeyo', 'multan', 'fatima', 'yasmin']\n"
     ]
    }
   ],
   "source": [
    "strings = [\"hasan\", \"ahmad\", \"bilal\", \"goreyo\", \"tokeyo\", \"multan\", \"fatima\", \"yasmin\"]\n",
    "a = strings[0:3]\n",
    "b = strings[4:]\n",
    "print(\"have equal number of characters: \",a)\n",
    "print(\"have equal number of characters: \",b)"
   ]
  },
  {
   "cell_type": "markdown",
   "id": "1a0ebeb7",
   "metadata": {},
   "source": [
    "## Q.7"
   ]
  },
  {
   "cell_type": "code",
   "execution_count": 12,
   "id": "7dc9cb2d",
   "metadata": {},
   "outputs": [
    {
     "name": "stdout",
     "output_type": "stream",
     "text": [
      "for write data press 1 and for read data press 2 and for exit put done\n",
      "What's i do for you!2\n",
      "Enter Roll No. 123\n",
      "for write data press 1 and for read data press 2 and for exit put done\n",
      "What's i do for you!2\n",
      "Enter Roll No. 123\n",
      "for write data press 1 and for read data press 2 and for exit put done\n",
      "What's i do for you!done\n",
      "Thank you! Budy\n"
     ]
    }
   ],
   "source": [
    "while True:\n",
    "    \n",
    "# command box\n",
    "\n",
    "    print(\"for write data press 1 and for read data press 2 and for exit put done\")\n",
    "    comm = input(\"What's i do for you!\")\n",
    "\n",
    "    # user input box\n",
    "    \n",
    "    if comm == \"1\":\n",
    "        Roll_No = int(input(\"Enter roll number: \"))\n",
    "        Urdu = int(input(\"Enter marks in urdu: \"))\n",
    "        English = int(input(\"Enter marks in English: \"))\n",
    "        Python = int(input(\"Enter marks in Python\"))\n",
    "\n",
    "        Record = {Roll_No:{\"Urdu\":Urdu , \"English\":English , \"Python\":Python}}\n",
    "\n",
    "    # Storage box\n",
    "\n",
    "        file = open(\"Student_Data.txt\" , \"a\")\n",
    "        file.write(str(Record)+\"\\n\")\n",
    "        file.close()\n",
    "\n",
    "    # Exit box\n",
    "\n",
    "    elif comm == \"done\" or comm == \"Done\" or comm == \"DONE\":\n",
    "        print(\"Thank you! Budy\")\n",
    "        break\n",
    "    # user output\n",
    "\n",
    "    elif comm == \"2\":\n",
    "        file = open(\"Student_Data.txt\" , \"r\")\n",
    "        Data = file.readlines()\n",
    "        file.close()\n",
    "        comm2 = input(\"Enter Roll No. \")\n",
    "\n",
    "        for Record in Data:\n",
    "            Record = eval(Record)\n",
    "            if comm2 in Record.keys():\n",
    "                Data2 = Record[comm2]\n",
    "                print(Data2)"
   ]
  },
  {
   "cell_type": "code",
   "execution_count": null,
   "id": "9ec4594d",
   "metadata": {},
   "outputs": [],
   "source": []
  }
 ],
 "metadata": {
  "kernelspec": {
   "display_name": "Python 3 (ipykernel)",
   "language": "python",
   "name": "python3"
  },
  "language_info": {
   "codemirror_mode": {
    "name": "ipython",
    "version": 3
   },
   "file_extension": ".py",
   "mimetype": "text/x-python",
   "name": "python",
   "nbconvert_exporter": "python",
   "pygments_lexer": "ipython3",
   "version": "3.9.7"
  }
 },
 "nbformat": 4,
 "nbformat_minor": 5
}
