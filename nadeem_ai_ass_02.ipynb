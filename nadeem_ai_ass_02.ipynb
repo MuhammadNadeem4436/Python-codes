{
 "cells": [
  {
   "cell_type": "markdown",
   "id": "14138cef",
   "metadata": {},
   "source": [
    "# Q.1"
   ]
  },
  {
   "cell_type": "code",
   "execution_count": 54,
   "id": "936de671",
   "metadata": {},
   "outputs": [
    {
     "name": "stdout",
     "output_type": "stream",
     "text": [
      "3\n",
      "your number is positive:\n"
     ]
    }
   ],
   "source": [
    "a = int(input())\n",
    "if a>0:\n",
    "    print(\"your number is positive:\")\n",
    "elif a==0:\n",
    "    print(\"your number is zero:\")\n",
    "else:\n",
    "    print(\"your number is negative:\")"
   ]
  },
  {
   "cell_type": "markdown",
   "id": "dd2c95e3",
   "metadata": {},
   "source": [
    "# Q.2"
   ]
  },
  {
   "cell_type": "code",
   "execution_count": 55,
   "id": "cfd7b230",
   "metadata": {},
   "outputs": [
    {
     "name": "stdout",
     "output_type": "stream",
     "text": [
      "4\n",
      "Your number is even:\n"
     ]
    }
   ],
   "source": [
    "b  = int(input())\n",
    "if b%2 == 0:\n",
    "    print(\"Your number is even:\")\n",
    "else:\n",
    "    print(\"Your number is odd\")"
   ]
  },
  {
   "cell_type": "markdown",
   "id": "87b7665a",
   "metadata": {},
   "source": [
    "# Q.3"
   ]
  },
  {
   "cell_type": "code",
   "execution_count": 56,
   "id": "7e6f3524",
   "metadata": {},
   "outputs": [
    {
     "name": "stdout",
     "output_type": "stream",
     "text": [
      "Your even numbers: [2]\n",
      "Your odd numbers: [3]\n",
      "Your even numbers: [2, 4]\n",
      "Your odd numbers: [3, 5]\n",
      "Your even numbers: [2, 4, 6]\n",
      "Your odd numbers: [3, 5, 7]\n",
      "Your even numbers: [2, 4, 6, 8]\n"
     ]
    }
   ],
   "source": [
    "c = [2,3,4,5,6,7,8]\n",
    "d = []\n",
    "v = []\n",
    "for i in c:\n",
    "    if i%2 == 0:\n",
    "        d.append(i)\n",
    "        print(\"Your even numbers:\",d)\n",
    "    else:\n",
    "        v.append(i)\n",
    "        print(\"Your odd numbers:\",v)"
   ]
  },
  {
   "cell_type": "markdown",
   "id": "b7d0b842",
   "metadata": {},
   "source": [
    "# Q.4"
   ]
  },
  {
   "cell_type": "code",
   "execution_count": 57,
   "id": "78b95de0",
   "metadata": {},
   "outputs": [
    {
     "name": "stdout",
     "output_type": "stream",
     "text": [
      "nadeem\n",
      "input belong to alphabets n\n",
      "input belong to alphabets a\n",
      "input belong to alphabets d\n",
      "input belong to alphabets e\n",
      "input belong to alphabets e\n",
      "input belong to alphabets m\n"
     ]
    }
   ],
   "source": [
    "g = list(input())\n",
    "k = [\"a\",\"b\",\"c\",\"d\",\"e\",\"f\",\"g\",\"h\",\"i\",\"j\",\"k\",\"l\",\"m\",\"n\",\"o\",\"p\",\"q\",\"r\",\"s\",\"t\",\"u\",\"v\",\"w\",\"x\"\n",
    "     ,\"y\",\"z\"]\n",
    "q = [\",\",\"''\",\".\",\"!\",\"@\",\"?\",\"&\"]\n",
    "for i in g:\n",
    "    if i in k:\n",
    "        print(\"input belong to alphabets\",i)\n",
    "    elif i in q:\n",
    "        print(\"input belong to puntuation chr\",i)\n",
    "    else:\n",
    "        print(\"input belong to integer \",i)\n",
    "    "
   ]
  },
  {
   "cell_type": "code",
   "execution_count": 58,
   "id": "a8b66143",
   "metadata": {},
   "outputs": [
    {
     "name": "stdout",
     "output_type": "stream",
     "text": [
      "nadeem\n",
      "nadeem is a alphabet:\n"
     ]
    }
   ],
   "source": [
    "lst = input()\n",
    "if lst.isalpha():\n",
    "    print(lst,\"is a alphabet:\")\n",
    "elif lst.isdigit():\n",
    "    print(lst,\"is a digit:\")\n",
    "else:\n",
    "    print(lst,\"is a puntuation chr\")"
   ]
  },
  {
   "cell_type": "markdown",
   "id": "659a248f",
   "metadata": {},
   "source": [
    "# Q.5"
   ]
  },
  {
   "cell_type": "code",
   "execution_count": 59,
   "id": "ed703b2a",
   "metadata": {},
   "outputs": [
    {
     "name": "stdout",
     "output_type": "stream",
     "text": [
      "nadeem\n",
      "n belonge to consonent:\n",
      "a belonge to vowels:\n",
      "d belonge to consonent:\n",
      "e belonge to vowels:\n",
      "e belonge to vowels:\n",
      "m belonge to consonent:\n"
     ]
    }
   ],
   "source": [
    "z = input()\n",
    "d = [\"a\",\"e\",\"i\",\"o\",\"u\"]\n",
    "for i in z:\n",
    "    if i in d:\n",
    "        print(i,\"belonge to vowels:\")\n",
    "    else:\n",
    "        print(i,\"belonge to consonent:\")\n"
   ]
  },
  {
   "cell_type": "markdown",
   "id": "6bc2582b",
   "metadata": {},
   "source": [
    "# Q.6"
   ]
  },
  {
   "cell_type": "code",
   "execution_count": 60,
   "id": "a29843f5",
   "metadata": {
    "scrolled": true
   },
   "outputs": [
    {
     "name": "stdout",
     "output_type": "stream",
     "text": [
      "nadeem\n",
      "consonent: n\n",
      "vowels: a\n",
      "consonent: d\n",
      "vowels: e\n",
      "vowels: e\n",
      "consonent: m\n",
      "vowels 3\n",
      "consonent 3\n"
     ]
    }
   ],
   "source": [
    "pu = input()\n",
    "fu = [\"a\",\"e\",\"i\",\"o\",\"u\"]\n",
    "fu_count = 0\n",
    "for i in pu:\n",
    "    if i in fu:\n",
    "        print(\"vowels:\",i)\n",
    "        fu_count+=1\n",
    "    else:\n",
    "        print(\"consonent:\",i)\n",
    "        \n",
    "print(\"vowels\",fu_count)\n",
    "print(\"consonent\", len(pu)-fu_count)"
   ]
  },
  {
   "cell_type": "markdown",
   "id": "450feed1",
   "metadata": {},
   "source": [
    "# Q.7"
   ]
  },
  {
   "cell_type": "code",
   "execution_count": 61,
   "id": "dde4adc1",
   "metadata": {},
   "outputs": [
    {
     "name": "stdout",
     "output_type": "stream",
     "text": [
      "Your number is:34\n",
      "Is not a prime number: 34\n",
      "divider number 2\n"
     ]
    }
   ],
   "source": [
    "fg = int(input(\"Your number is:\"))\n",
    "ssg = True\n",
    "for i in range(1,fg):\n",
    "    if i!=1 and i!=fg and fg%i==0:\n",
    "        print(\"Is not a prime number:\",fg)\n",
    "        print(\"divider number\",i)\n",
    "        ssg = False\n",
    "        break\n",
    "        \n",
    "if ssg == True:\n",
    "    print(\"Is a prime number:\")\n"
   ]
  },
  {
   "cell_type": "markdown",
   "id": "c75fb351",
   "metadata": {},
   "source": [
    "# Q.8"
   ]
  },
  {
   "cell_type": "code",
   "execution_count": 62,
   "id": "9c798c4a",
   "metadata": {},
   "outputs": [
    {
     "name": "stdout",
     "output_type": "stream",
     "text": [
      "Your number:34\n",
      "2\n",
      "3\n",
      "5\n",
      "7\n",
      "11\n",
      "13\n",
      "17\n",
      "19\n",
      "23\n",
      "29\n",
      "31\n"
     ]
    }
   ],
   "source": [
    "num1 = int(input(\"Your number:\"))\n",
    "for number in range(num1+1):\n",
    "        if number > 1:\n",
    "            for i in range(2,number):\n",
    "                if number%i==0:\n",
    "                    break\n",
    "            else:\n",
    "                print(number)\n",
    "         "
   ]
  },
  {
   "cell_type": "markdown",
   "id": "5e1ce9ba",
   "metadata": {},
   "source": [
    "# Q.9"
   ]
  },
  {
   "cell_type": "code",
   "execution_count": 63,
   "id": "28cbcbdf",
   "metadata": {},
   "outputs": [
    {
     "name": "stdout",
     "output_type": "stream",
     "text": [
      "Write your year:2020\n",
      "Its a leap year\n"
     ]
    }
   ],
   "source": [
    "year = int(input(\"Write your year:\"))\n",
    "if year%4==0:\n",
    "    print(\"Its a leap year\")\n",
    "else:\n",
    "    print(\"Its not a leap year\")"
   ]
  },
  {
   "cell_type": "markdown",
   "id": "34187320",
   "metadata": {},
   "source": [
    "# Q.10"
   ]
  },
  {
   "cell_type": "code",
   "execution_count": 64,
   "id": "31b24e68",
   "metadata": {},
   "outputs": [
    {
     "name": "stdout",
     "output_type": "stream",
     "text": [
      "121\n",
      "palindrome\n"
     ]
    }
   ],
   "source": [
    "a = input()\n",
    "if (a == a[::-1]):\n",
    "    print(\"palindrome\")\n",
    "else:\n",
    "    print(\"Not palindrome\")\n"
   ]
  },
  {
   "cell_type": "markdown",
   "id": "23f5bf2a",
   "metadata": {},
   "source": [
    "# Q.11"
   ]
  },
  {
   "cell_type": "code",
   "execution_count": 65,
   "id": "962dc50c",
   "metadata": {},
   "outputs": [
    {
     "name": "stdout",
     "output_type": "stream",
     "text": [
      "2\n",
      "fectorial of: 2 is: 2\n"
     ]
    }
   ],
   "source": [
    "s1 = input()\n",
    "f = 1\n",
    "if int(s1) >= 1:\n",
    "    for i in range(1,int(s1)+1):\n",
    "        f = f * i\n",
    "print(\"fectorial of:\",s1,\"is:\",f)\n",
    "        "
   ]
  },
  {
   "cell_type": "markdown",
   "id": "183bd314",
   "metadata": {},
   "source": [
    "# Q.12"
   ]
  },
  {
   "cell_type": "code",
   "execution_count": 53,
   "id": "f933a5b9",
   "metadata": {},
   "outputs": [
    {
     "name": "stdout",
     "output_type": "stream",
     "text": [
      "fibonacci series:10\n",
      "0 1 1 2 3 5 8 13 21 34 "
     ]
    }
   ],
   "source": [
    "n = int(input(\"fibonacci series:\"))\n",
    "f1 = 0\n",
    "f2 = 1\n",
    "if n<0:\n",
    "    print(\"Enter a positive Number!\")\n",
    "elif n==0:\n",
    "    print(f1)\n",
    "elif n==1:\n",
    "    print(f1)\n",
    "elif n==2:\n",
    "    print(f1,f2)\n",
    "else:\n",
    "    print(f1,f2 , end = ' ')\n",
    "for i in range(3,n+1):\n",
    "    f3 = f1 + f2\n",
    "    print(f3 , end = ' ')\n",
    "    f1 = f2\n",
    "    f2 = f3"
   ]
  },
  {
   "cell_type": "markdown",
   "id": "29021329",
   "metadata": {},
   "source": [
    "# Q.13"
   ]
  },
  {
   "cell_type": "code",
   "execution_count": 66,
   "id": "34eb9097",
   "metadata": {},
   "outputs": [
    {
     "name": "stdout",
     "output_type": "stream",
     "text": [
      "80\n",
      "Grad is A\n"
     ]
    }
   ],
   "source": [
    "num3 = int(input())\n",
    "if num3<=10:\n",
    "        print(\"Grad is D\")\n",
    "elif num3<=40:\n",
    "        print(\"Grad is C\")\n",
    "elif num3<=60:\n",
    "        print(\"Grad is B\")\n",
    "elif num3<=80:\n",
    "        print(\"Grad is A\")\n",
    "elif num3<=100:\n",
    "        print(\"Grad is A*\")\n",
    "    "
   ]
  },
  {
   "cell_type": "markdown",
   "id": "0de3fbf6",
   "metadata": {},
   "source": [
    "# Q.14"
   ]
  },
  {
   "cell_type": "code",
   "execution_count": 67,
   "id": "c6a0bd80",
   "metadata": {},
   "outputs": [
    {
     "name": "stdout",
     "output_type": "stream",
     "text": [
      "2\n",
      "3\n",
      "4\n",
      "[2, 3, 4] Point lies on XYZ-plane a point contains values in this manner(x,y,z) \n"
     ]
    }
   ],
   "source": [
    "x = int(input())\n",
    "y = int(input())\n",
    "z = int(input())\n",
    "a = [x,y,z]\n",
    "if x!=0 and y==0 and z==0:\n",
    "    print(a,\"Point lies on X-axis\")\n",
    "elif x==0 and y!=0 and z==0:\n",
    "    print(a,\"Point lies on Y-axis\")\n",
    "elif x==0 and y==0 and z!=0:\n",
    "    print(a,\"Point lies on Z-axis\")\n",
    "else:\n",
    "    print(a,\"Point lies on XYZ-plane\",\"a point contains values in this manner(x,y,z) \")"
   ]
  },
  {
   "cell_type": "markdown",
   "id": "7e8b9c2b",
   "metadata": {},
   "source": [
    "# Q.15"
   ]
  },
  {
   "cell_type": "code",
   "execution_count": 68,
   "id": "c05a55f5",
   "metadata": {},
   "outputs": [
    {
     "name": "stdout",
     "output_type": "stream",
     "text": [
      "x1:4\n",
      "y1:3\n",
      "x2:4\n",
      "y2:5\n"
     ]
    },
    {
     "data": {
      "text/plain": [
       "2.0"
      ]
     },
     "execution_count": 68,
     "metadata": {},
     "output_type": "execute_result"
    }
   ],
   "source": [
    "x1 = int(input(\"x1:\"))\n",
    "y1 = int(input(\"y1:\"))\n",
    "x2 = int(input(\"x2:\"))\n",
    "y2 = int(input(\"y2:\"))\n",
    "a = ((x2-x1)**2 +(y2-y1)**2)**(1/2)\n",
    "a\n",
    "\n"
   ]
  },
  {
   "cell_type": "code",
   "execution_count": 70,
   "id": "2a86ce30",
   "metadata": {},
   "outputs": [
    {
     "name": "stdout",
     "output_type": "stream",
     "text": [
      "first point3,3\n",
      "second point3,4\n",
      "Distance b/w points is: 1.0\n"
     ]
    }
   ],
   "source": [
    "import math\n",
    "x = input(\"first point\")\n",
    "p1 = x.split(\",\")\n",
    "y = input(\"second point\")\n",
    "p2 = y.split(\",\")\n",
    "Distance = math.sqrt((int(p1[0])-int(p2[0]))**2 + (int(p1[1])-int(p2[1]))**2)\n",
    "print(\"Distance b/w points is:\",Distance)"
   ]
  },
  {
   "cell_type": "markdown",
   "id": "795887ab",
   "metadata": {},
   "source": [
    "# Q.16"
   ]
  },
  {
   "cell_type": "code",
   "execution_count": 5,
   "id": "2e7e9184",
   "metadata": {},
   "outputs": [
    {
     "name": "stdout",
     "output_type": "stream",
     "text": [
      "length of first side:4\n",
      "lenght of sencond side:4\n",
      "length of third side:4\n",
      "Eqvilatral triangle:\n"
     ]
    }
   ],
   "source": [
    "x = int(input(\"length of first side:\"))\n",
    "y = int(input(\"lenght of sencond side:\"))\n",
    "z = int(input(\"length of third side:\"))\n",
    "if x==y==z:\n",
    "    print(\"Eqvilatral triangle:\")\n",
    "elif x==y or y==z or z==x:\n",
    "    print(\"isoslece triangle:\")\n",
    "else:\n",
    "    print(\"scalene triangle:\")\n"
   ]
  },
  {
   "cell_type": "markdown",
   "id": "294bdcd6",
   "metadata": {},
   "source": [
    "# Q.17"
   ]
  },
  {
   "cell_type": "code",
   "execution_count": 10,
   "id": "7c095290",
   "metadata": {},
   "outputs": [
    {
     "name": "stdout",
     "output_type": "stream",
     "text": [
      "Enter a number:10\n",
      "Enter a number:10\n",
      "Enter a number:10\n",
      "Enter a number:done\n",
      "all done\n",
      "Total enter number is: 3\n",
      "Sum of number is: 30.0\n",
      "Avarage: 10.0\n"
     ]
    }
   ],
   "source": [
    "num = 0\n",
    "tot = 0.0\n",
    "while True:\n",
    "    number = input(\"Enter a number:\")\n",
    "    if number == 'done':\n",
    "        break\n",
    "    try :\n",
    "        num1 = float(number)\n",
    "    except:\n",
    "        print('Invailed Input')\n",
    "        continue\n",
    "    num = num+1\n",
    "    tot = tot + num1\n",
    "print ('all done')\n",
    "# print (tot,num,tot/num)\n",
    "print(\"Total enter number is:\",num)\n",
    "print(\"Sum of number is:\",tot)\n",
    "print(\"Avarage:\",tot/num)"
   ]
  },
  {
   "cell_type": "code",
   "execution_count": null,
   "id": "d66db4ac",
   "metadata": {},
   "outputs": [],
   "source": []
  }
 ],
 "metadata": {
  "kernelspec": {
   "display_name": "Python 3 (ipykernel)",
   "language": "python",
   "name": "python3"
  },
  "language_info": {
   "codemirror_mode": {
    "name": "ipython",
    "version": 3
   },
   "file_extension": ".py",
   "mimetype": "text/x-python",
   "name": "python",
   "nbconvert_exporter": "python",
   "pygments_lexer": "ipython3",
   "version": "3.9.7"
  }
 },
 "nbformat": 4,
 "nbformat_minor": 5
}
