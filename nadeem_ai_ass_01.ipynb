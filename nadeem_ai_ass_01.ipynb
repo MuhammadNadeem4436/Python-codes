{
 "cells": [
  {
   "cell_type": "markdown",
   "id": "da635774",
   "metadata": {},
   "source": [
    "# Quetion no.1"
   ]
  },
  {
   "cell_type": "code",
   "execution_count": 1,
   "id": "b2a04bf8",
   "metadata": {},
   "outputs": [
    {
     "name": "stdout",
     "output_type": "stream",
     "text": [
      "Enter your name:nadeem\n",
      "Your name is: nadeem  welcome\n"
     ]
    }
   ],
   "source": [
    "username = input(\"Enter your name:\")\n",
    "x=\" welcome\"\n",
    "print(\"Your name is:\", username , x)"
   ]
  },
  {
   "cell_type": "markdown",
   "id": "fa16a5d4",
   "metadata": {},
   "source": [
    "# Q.2"
   ]
  },
  {
   "cell_type": "code",
   "execution_count": 2,
   "id": "3dd9805c",
   "metadata": {},
   "outputs": [
    {
     "name": "stdout",
     "output_type": "stream",
     "text": [
      "Enter hour:4\n",
      "Enter Rate per Hour:5\n",
      "pay: 20.0\n"
     ]
    }
   ],
   "source": [
    "hrs=input(\"Enter hour:\")\n",
    "rate=input(\"Enter Rate per Hour:\")\n",
    "pay=float(hrs)*float(rate)\n",
    "print(\"pay:\", pay)"
   ]
  },
  {
   "cell_type": "markdown",
   "id": "36105b9b",
   "metadata": {},
   "source": [
    "# Q.3"
   ]
  },
  {
   "cell_type": "code",
   "execution_count": 3,
   "id": "99f41474",
   "metadata": {},
   "outputs": [
    {
     "data": {
      "text/plain": [
       "8"
      ]
     },
     "execution_count": 3,
     "metadata": {},
     "output_type": "execute_result"
    }
   ],
   "source": [
    "width = 17\n",
    "height = 12.0\n",
    "width//2"
   ]
  },
  {
   "cell_type": "code",
   "execution_count": 4,
   "id": "595564d3",
   "metadata": {},
   "outputs": [
    {
     "data": {
      "text/plain": [
       "8.5"
      ]
     },
     "execution_count": 4,
     "metadata": {},
     "output_type": "execute_result"
    }
   ],
   "source": [
    "width/2.0"
   ]
  },
  {
   "cell_type": "code",
   "execution_count": 5,
   "id": "44dcef15",
   "metadata": {},
   "outputs": [
    {
     "data": {
      "text/plain": [
       "4.0"
      ]
     },
     "execution_count": 5,
     "metadata": {},
     "output_type": "execute_result"
    }
   ],
   "source": [
    "height/3"
   ]
  },
  {
   "cell_type": "code",
   "execution_count": 6,
   "id": "70f61c3c",
   "metadata": {},
   "outputs": [
    {
     "data": {
      "text/plain": [
       "11"
      ]
     },
     "execution_count": 6,
     "metadata": {},
     "output_type": "execute_result"
    }
   ],
   "source": [
    "1+2*5"
   ]
  },
  {
   "cell_type": "markdown",
   "id": "079011d3",
   "metadata": {},
   "source": [
    "# Q.4"
   ]
  },
  {
   "cell_type": "code",
   "execution_count": 7,
   "id": "8b86cdd2",
   "metadata": {},
   "outputs": [
    {
     "name": "stdout",
     "output_type": "stream",
     "text": [
      "put your temprature:342\n",
      "Temprature in Fahrenhite = 647.6\n"
     ]
    }
   ],
   "source": [
    "celsius = float(input(\"put your temprature:\"))\n",
    "fahrenhite = (celsius * 9.0/5.0) + 32.0\n",
    "print(\"Temprature in Fahrenhite =\" , fahrenhite)"
   ]
  },
  {
   "cell_type": "markdown",
   "id": "1f3d7c82",
   "metadata": {},
   "source": [
    "# Q.5"
   ]
  },
  {
   "cell_type": "code",
   "execution_count": 8,
   "id": "9c5050c8",
   "metadata": {},
   "outputs": [
    {
     "name": "stdout",
     "output_type": "stream",
     "text": [
      "Enter your number49\n",
      "49 is a perfect squre\n"
     ]
    }
   ],
   "source": [
    "import math\n",
    "num = int(input(\"Enter your number\"))\n",
    "root = math.sqrt(num)\n",
    "if int(root+0.5)**2 == num:\n",
    "    print(num ,\"is a perfect squre\")\n",
    "else:\n",
    "    print(num ,\"is not a perfect squre\")"
   ]
  },
  {
   "cell_type": "markdown",
   "id": "8a22971c",
   "metadata": {},
   "source": [
    "# Q.6"
   ]
  },
  {
   "cell_type": "code",
   "execution_count": 9,
   "id": "e2c56016",
   "metadata": {},
   "outputs": [
    {
     "name": "stdout",
     "output_type": "stream",
     "text": [
      " Write your principal4\n",
      " write your rate of intrest5\n",
      " write your duration6\n",
      "1.2\n"
     ]
    }
   ],
   "source": [
    "p = float(input(\" Write your principal\"))\n",
    "r = float(input(\" write your rate of intrest\"))\n",
    "t = float(input(\" write your duration\"))\n",
    "z = (p*r*t)/100\n",
    "print(z)"
   ]
  },
  {
   "cell_type": "markdown",
   "id": "a79713ec",
   "metadata": {},
   "source": [
    "# STRING"
   ]
  },
  {
   "cell_type": "markdown",
   "id": "92edf2f9",
   "metadata": {},
   "source": [
    "# Q.1"
   ]
  },
  {
   "cell_type": "code",
   "execution_count": 10,
   "id": "4ec345d7",
   "metadata": {},
   "outputs": [
    {
     "name": "stdout",
     "output_type": "stream",
     "text": [
      "Your name is nadeem Your number is1234567\n"
     ]
    }
   ],
   "source": [
    "num = 1234567\n",
    "name = \"nadeem\"\n",
    "x = \"Your name is {} Your number is{}\".format(name , num)\n",
    "print(x)"
   ]
  },
  {
   "cell_type": "code",
   "execution_count": 11,
   "id": "7b77326c",
   "metadata": {},
   "outputs": [
    {
     "data": {
      "text/plain": [
       "str"
      ]
     },
     "execution_count": 11,
     "metadata": {},
     "output_type": "execute_result"
    }
   ],
   "source": [
    "str_1 ='X-DSPAM-Confidence:0.8475'\n",
    "str_1.split(\"c\")\n",
    "type(str_1)"
   ]
  },
  {
   "cell_type": "code",
   "execution_count": 12,
   "id": "2fd68de6",
   "metadata": {},
   "outputs": [
    {
     "data": {
      "text/plain": [
       "18"
      ]
     },
     "execution_count": 12,
     "metadata": {},
     "output_type": "execute_result"
    }
   ],
   "source": [
    "str_1.find(\":\")"
   ]
  },
  {
   "cell_type": "code",
   "execution_count": 13,
   "id": "fd7dacf9",
   "metadata": {},
   "outputs": [],
   "source": [
    "num = str_1[19:]"
   ]
  },
  {
   "cell_type": "markdown",
   "id": "2dd0debb",
   "metadata": {},
   "source": [
    "# Q.2"
   ]
  },
  {
   "cell_type": "code",
   "execution_count": 14,
   "id": "b44b0bfb",
   "metadata": {},
   "outputs": [
    {
     "data": {
      "text/plain": [
       "['Welcome', 'to', 'the', 'Course', 'on', 'Data', 'Science.']"
      ]
     },
     "execution_count": 14,
     "metadata": {},
     "output_type": "execute_result"
    }
   ],
   "source": [
    "my_str = \"Welcome to the Course on Data Science.\"\n",
    "my_str.split(\" \")"
   ]
  },
  {
   "cell_type": "code",
   "execution_count": 15,
   "id": "7396d962",
   "metadata": {},
   "outputs": [
    {
     "data": {
      "text/plain": [
       "'Welcome to'"
      ]
     },
     "execution_count": 15,
     "metadata": {},
     "output_type": "execute_result"
    }
   ],
   "source": [
    "my_str = \"Welcome to the Course on Data Science.\"\n",
    "my_str[0:10]"
   ]
  },
  {
   "cell_type": "code",
   "execution_count": 16,
   "id": "4812ea51",
   "metadata": {},
   "outputs": [
    {
     "data": {
      "text/plain": [
       "'Welcome Science.'"
      ]
     },
     "execution_count": 16,
     "metadata": {},
     "output_type": "execute_result"
    }
   ],
   "source": [
    "my_str = \"Welcome to the Course on Data Science.\"\n",
    "my_str[0:8] + my_str[-8:]"
   ]
  },
  {
   "cell_type": "markdown",
   "id": "d68269a1",
   "metadata": {},
   "source": [
    "# Q.3"
   ]
  },
  {
   "cell_type": "code",
   "execution_count": 17,
   "id": "8feb0f3c",
   "metadata": {},
   "outputs": [
    {
     "data": {
      "text/plain": [
       "3"
      ]
     },
     "execution_count": 17,
     "metadata": {},
     "output_type": "execute_result"
    }
   ],
   "source": [
    "s = (\"my name is nadeem\")\n",
    "s.count(\"e\")"
   ]
  },
  {
   "cell_type": "markdown",
   "id": "94399612",
   "metadata": {},
   "source": [
    "# Q.4"
   ]
  },
  {
   "cell_type": "code",
   "execution_count": 18,
   "id": "d3baf343",
   "metadata": {},
   "outputs": [
    {
     "data": {
      "text/plain": [
       "2"
      ]
     },
     "execution_count": 18,
     "metadata": {},
     "output_type": "execute_result"
    }
   ],
   "source": [
    "s= (\"my name name is nadeem and i am a good boy.\")\n",
    "s.count(\"name\")"
   ]
  },
  {
   "cell_type": "code",
   "execution_count": 19,
   "id": "b928868c",
   "metadata": {},
   "outputs": [
    {
     "data": {
      "text/plain": [
       "43"
      ]
     },
     "execution_count": 19,
     "metadata": {},
     "output_type": "execute_result"
    }
   ],
   "source": [
    "s= (\"my name name is nadeem and i am a good boy.\")\n",
    "len(s)"
   ]
  },
  {
   "cell_type": "markdown",
   "id": "ea04f363",
   "metadata": {},
   "source": [
    "# Q.5"
   ]
  },
  {
   "cell_type": "code",
   "execution_count": 20,
   "id": "5bebfd68",
   "metadata": {},
   "outputs": [
    {
     "data": {
      "text/plain": [
       "'Int'"
      ]
     },
     "execution_count": 20,
     "metadata": {},
     "output_type": "execute_result"
    }
   ],
   "source": [
    "s = \"I am a student\"\n",
    "s[:1] + s[ -2:]"
   ]
  },
  {
   "cell_type": "markdown",
   "id": "ec070401",
   "metadata": {},
   "source": [
    "# list"
   ]
  },
  {
   "cell_type": "markdown",
   "id": "cd80dc52",
   "metadata": {},
   "source": [
    "# Q.1"
   ]
  },
  {
   "cell_type": "code",
   "execution_count": 21,
   "id": "a925a18f",
   "metadata": {},
   "outputs": [
    {
     "data": {
      "text/plain": [
       "[2, 3, 4, 5, 6]"
      ]
     },
     "execution_count": 21,
     "metadata": {},
     "output_type": "execute_result"
    }
   ],
   "source": [
    "list_1  = [1,2,3,4,5,6,7]\n",
    "list_1[1:6]"
   ]
  },
  {
   "cell_type": "markdown",
   "id": "1c167fd1",
   "metadata": {},
   "source": [
    "# Q.2"
   ]
  },
  {
   "cell_type": "code",
   "execution_count": 22,
   "id": "78d3cac2",
   "metadata": {},
   "outputs": [
    {
     "data": {
      "text/plain": [
       "{'abubakar', 'akram', 'faizan', 'huzaifa', 'nadeem'}"
      ]
     },
     "execution_count": 22,
     "metadata": {},
     "output_type": "execute_result"
    }
   ],
   "source": [
    "list_2 = [\"nadeem\",\"abubakar\",\"nadeem\",\"huzaifa\",\"faizan\",\"akram\"]\n",
    "set(list_2)"
   ]
  },
  {
   "cell_type": "markdown",
   "id": "f1647f40",
   "metadata": {},
   "source": [
    "# Q.3"
   ]
  },
  {
   "cell_type": "code",
   "execution_count": 23,
   "id": "6148108e",
   "metadata": {},
   "outputs": [
    {
     "data": {
      "text/plain": [
       "15"
      ]
     },
     "execution_count": 23,
     "metadata": {},
     "output_type": "execute_result"
    }
   ],
   "source": [
    "list_3 =[1,2,3,4,5]\n",
    "sum(list_3)"
   ]
  },
  {
   "cell_type": "markdown",
   "id": "8f996352",
   "metadata": {},
   "source": [
    "# Q.4"
   ]
  },
  {
   "cell_type": "code",
   "execution_count": 24,
   "id": "099a49df",
   "metadata": {},
   "outputs": [
    {
     "data": {
      "text/plain": [
       "(1, 8)"
      ]
     },
     "execution_count": 24,
     "metadata": {},
     "output_type": "execute_result"
    }
   ],
   "source": [
    "list_4 = [1,2,3,4,5,6,7,8]\n",
    "a = min(list_4)\n",
    "b = max(list_4)\n",
    "(a,b)"
   ]
  },
  {
   "cell_type": "markdown",
   "id": "25b48397",
   "metadata": {},
   "source": [
    "# Q.5"
   ]
  },
  {
   "cell_type": "code",
   "execution_count": 25,
   "id": "fd274046",
   "metadata": {},
   "outputs": [
    {
     "data": {
      "text/plain": [
       "{1, 2, 3, 4, 5, 6}"
      ]
     },
     "execution_count": 25,
     "metadata": {},
     "output_type": "execute_result"
    }
   ],
   "source": [
    "list_5 = [1,3,2,5,4,3,6,5,3,2,5,6]\n",
    "set(list_5)"
   ]
  },
  {
   "cell_type": "markdown",
   "id": "09adc2ad",
   "metadata": {},
   "source": [
    "# Q.6"
   ]
  },
  {
   "cell_type": "code",
   "execution_count": 26,
   "id": "79fae46b",
   "metadata": {},
   "outputs": [],
   "source": [
    "list_6 = [1,2,3,4,5]\n",
    "list_7 = [0,1,4,3,5]\n"
   ]
  },
  {
   "cell_type": "code",
   "execution_count": 27,
   "id": "fcc514ea",
   "metadata": {},
   "outputs": [
    {
     "data": {
      "text/plain": [
       "set"
      ]
     },
     "execution_count": 27,
     "metadata": {},
     "output_type": "execute_result"
    }
   ],
   "source": [
    "b = set(list_6)\n",
    "type(b)"
   ]
  },
  {
   "cell_type": "code",
   "execution_count": 28,
   "id": "36272e24",
   "metadata": {},
   "outputs": [
    {
     "data": {
      "text/plain": [
       "set"
      ]
     },
     "execution_count": 28,
     "metadata": {},
     "output_type": "execute_result"
    }
   ],
   "source": [
    "a=set(list_7)\n",
    "type(a)"
   ]
  },
  {
   "cell_type": "code",
   "execution_count": 29,
   "id": "d3f913ab",
   "metadata": {},
   "outputs": [
    {
     "data": {
      "text/plain": [
       "{1, 3, 4, 5}"
      ]
     },
     "execution_count": 29,
     "metadata": {},
     "output_type": "execute_result"
    }
   ],
   "source": [
    "b.intersection(a)"
   ]
  },
  {
   "cell_type": "markdown",
   "id": "0b843825",
   "metadata": {},
   "source": [
    "# Q.7"
   ]
  },
  {
   "cell_type": "code",
   "execution_count": 30,
   "id": "b3a6411b",
   "metadata": {},
   "outputs": [
    {
     "data": {
      "text/plain": [
       "list"
      ]
     },
     "execution_count": 30,
     "metadata": {},
     "output_type": "execute_result"
    }
   ],
   "source": [
    "list_8 = [1,2,3,4,5,6]\n",
    "type(list_8)"
   ]
  },
  {
   "cell_type": "code",
   "execution_count": 31,
   "id": "cfefc532",
   "metadata": {},
   "outputs": [
    {
     "data": {
      "text/plain": [
       "str"
      ]
     },
     "execution_count": 31,
     "metadata": {},
     "output_type": "execute_result"
    }
   ],
   "source": [
    "a = str(list_8)\n",
    "type(a)"
   ]
  },
  {
   "cell_type": "markdown",
   "id": "6f451b8d",
   "metadata": {},
   "source": [
    "# Q.8"
   ]
  },
  {
   "cell_type": "code",
   "execution_count": 32,
   "id": "5c5c6c97",
   "metadata": {},
   "outputs": [
    {
     "data": {
      "text/plain": [
       "False"
      ]
     },
     "execution_count": 32,
     "metadata": {},
     "output_type": "execute_result"
    }
   ],
   "source": [
    "list_9 = [\"nadeem\",\"abubakar\"]\n",
    "list_10 = [1,2,3,4]\n",
    "list_9==list_10"
   ]
  },
  {
   "cell_type": "markdown",
   "id": "9ba8e01a",
   "metadata": {},
   "source": [
    "# Q.9"
   ]
  },
  {
   "cell_type": "code",
   "execution_count": 33,
   "id": "05b78b7c",
   "metadata": {},
   "outputs": [
    {
     "data": {
      "text/plain": [
       "{1, 2, 3, 4}"
      ]
     },
     "execution_count": 33,
     "metadata": {},
     "output_type": "execute_result"
    }
   ],
   "source": [
    "list_11 = [1,2,4,3,3,4,2,4]\n",
    "set(list_11)"
   ]
  },
  {
   "cell_type": "markdown",
   "id": "e4ad3d44",
   "metadata": {},
   "source": [
    "# Q.10"
   ]
  },
  {
   "cell_type": "code",
   "execution_count": 34,
   "id": "d165733a",
   "metadata": {},
   "outputs": [
    {
     "data": {
      "text/plain": [
       "2"
      ]
     },
     "execution_count": 34,
     "metadata": {},
     "output_type": "execute_result"
    }
   ],
   "source": [
    "list_12 = [1,3,4,5,4,2,2,4,5,6]\n",
    "list_12.count(2)"
   ]
  },
  {
   "cell_type": "markdown",
   "id": "6ba11e9c",
   "metadata": {},
   "source": [
    "# Q.11"
   ]
  },
  {
   "cell_type": "code",
   "execution_count": 35,
   "id": "2b14b817",
   "metadata": {},
   "outputs": [
    {
     "name": "stdout",
     "output_type": "stream",
     "text": [
      "[4, 5, 6, 7]\n"
     ]
    }
   ],
   "source": [
    "list_13 = [[2,3,4],[4,5,6,7],[8,9,0]]\n",
    "print(max(list_13, key=sum))"
   ]
  },
  {
   "cell_type": "markdown",
   "id": "6db38957",
   "metadata": {},
   "source": [
    "# Q.12"
   ]
  },
  {
   "cell_type": "code",
   "execution_count": 36,
   "id": "c874058d",
   "metadata": {},
   "outputs": [
    {
     "name": "stdout",
     "output_type": "stream",
     "text": [
      "['Good nadeem', 'Good abubakar', 'Good faizan']\n"
     ]
    }
   ],
   "source": [
    "list_14 = [\"nadeem\",\"abubakar\",\"faizan\"]\n",
    "a = []\n",
    "for item in list_14:\n",
    "    item = \"Good \" + item\n",
    "    a.append(item)\n",
    "print(a)"
   ]
  },
  {
   "cell_type": "markdown",
   "id": "8e724e08",
   "metadata": {},
   "source": [
    "# Q.13"
   ]
  },
  {
   "cell_type": "code",
   "execution_count": 37,
   "id": "6c57ee51",
   "metadata": {},
   "outputs": [
    {
     "data": {
      "text/plain": [
       "str"
      ]
     },
     "execution_count": 37,
     "metadata": {},
     "output_type": "execute_result"
    }
   ],
   "source": [
    "s = (\"nadeem\")\n",
    "type(s)"
   ]
  },
  {
   "cell_type": "code",
   "execution_count": 38,
   "id": "c3867028",
   "metadata": {},
   "outputs": [
    {
     "name": "stdout",
     "output_type": "stream",
     "text": [
      "['n', 'a', 'd', 'e', 'e', 'm']\n"
     ]
    },
    {
     "data": {
      "text/plain": [
       "list"
      ]
     },
     "execution_count": 38,
     "metadata": {},
     "output_type": "execute_result"
    }
   ],
   "source": [
    "a = list(s)\n",
    "print(a)\n",
    "type(a)"
   ]
  },
  {
   "cell_type": "markdown",
   "id": "e5a60710",
   "metadata": {},
   "source": [
    "# Q.14"
   ]
  },
  {
   "cell_type": "code",
   "execution_count": 39,
   "id": "b2585786",
   "metadata": {},
   "outputs": [
    {
     "data": {
      "text/plain": [
       "['nadeem', 'is a good boy']"
      ]
     },
     "execution_count": 39,
     "metadata": {},
     "output_type": "execute_result"
    }
   ],
   "source": [
    "list_15 = [\"nadeem\"]\n",
    "list_16 = [\"is a good boy\"]\n",
    "list_15+list_16"
   ]
  },
  {
   "cell_type": "markdown",
   "id": "d5c1866b",
   "metadata": {},
   "source": [
    "# Q.15"
   ]
  },
  {
   "cell_type": "code",
   "execution_count": 41,
   "id": "954fd7e0",
   "metadata": {},
   "outputs": [
    {
     "name": "stdout",
     "output_type": "stream",
     "text": [
      "[[1, 4, 7]]\n",
      "[[1, 4, 7], [2, 5]]\n",
      "[[1, 4, 7], [2, 5], [3, 6]]\n"
     ]
    }
   ],
   "source": [
    "list_17 = [1,2,3,4,5,6,7]\n",
    "s = []\n",
    "n = 3\n",
    "for x in range(n):\n",
    "    s.append(list_17[x::n])\n",
    "    print(s)"
   ]
  },
  {
   "cell_type": "markdown",
   "id": "e5e4e21d",
   "metadata": {},
   "source": [
    "# Q.16"
   ]
  },
  {
   "cell_type": "code",
   "execution_count": 42,
   "id": "74ede4ac",
   "metadata": {},
   "outputs": [
    {
     "name": "stdout",
     "output_type": "stream",
     "text": [
      "25122"
     ]
    }
   ],
   "source": [
    "list_18 = [25,12,2]\n",
    "for i in list_18:\n",
    "    print(i,end='')"
   ]
  },
  {
   "cell_type": "markdown",
   "id": "f02dac73",
   "metadata": {},
   "source": [
    "# tuples"
   ]
  },
  {
   "cell_type": "markdown",
   "id": "711d8ff7",
   "metadata": {},
   "source": [
    "# Q.1"
   ]
  },
  {
   "cell_type": "code",
   "execution_count": 43,
   "id": "31f40dc4",
   "metadata": {},
   "outputs": [
    {
     "data": {
      "text/plain": [
       "((2,), (3,), (4,))"
      ]
     },
     "execution_count": 43,
     "metadata": {},
     "output_type": "execute_result"
    }
   ],
   "source": [
    "t = (2 ,3,4)\n",
    "tuple((x,) for x in t)"
   ]
  },
  {
   "cell_type": "markdown",
   "id": "2861dbe5",
   "metadata": {},
   "source": [
    "# Q.2"
   ]
  },
  {
   "cell_type": "code",
   "execution_count": 44,
   "id": "6486f040",
   "metadata": {},
   "outputs": [
    {
     "name": "stdout",
     "output_type": "stream",
     "text": [
      "tuple is found: (3, 4, 'nadeem')\n"
     ]
    }
   ],
   "source": [
    "list_1 = [3,4,5,6,(3,4,\"nadeem\"),4,3,5,6,7,6,(2,3,4,\"faizan\")]\n",
    "for i in list_1:\n",
    "    if type(i)==tuple:\n",
    "        print(\"tuple is found:\",i)\n",
    "        break"
   ]
  },
  {
   "cell_type": "markdown",
   "id": "9550ca84",
   "metadata": {},
   "source": [
    "# Q.3"
   ]
  },
  {
   "cell_type": "code",
   "execution_count": 45,
   "id": "adbb822e",
   "metadata": {},
   "outputs": [
    {
     "name": "stdout",
     "output_type": "stream",
     "text": [
      "this is new tuple: (2, 3, 4, 5, 'nadeem', 'abubakar', 'huzaifa', 'faizan', 3, 4)\n"
     ]
    }
   ],
   "source": [
    "t_1 = (2,3,4,5,\"nadeem\")\n",
    "t_2 = (\"abubakar\",\"huzaifa\",\"faizan\",3,4)\n",
    "print(\"this is new tuple:\",t_1+t_2)"
   ]
  },
  {
   "cell_type": "markdown",
   "id": "201131bc",
   "metadata": {},
   "source": [
    "# Q.4"
   ]
  },
  {
   "cell_type": "code",
   "execution_count": 46,
   "id": "92270704",
   "metadata": {},
   "outputs": [
    {
     "data": {
      "text/plain": [
       "list"
      ]
     },
     "execution_count": 46,
     "metadata": {},
     "output_type": "execute_result"
    }
   ],
   "source": [
    "t_3 = (2,2,3,4,5,6)\n",
    "list_2 = list(t_3)\n",
    "type(list_2)"
   ]
  },
  {
   "cell_type": "markdown",
   "id": "9ac92d34",
   "metadata": {},
   "source": [
    "# sets"
   ]
  },
  {
   "cell_type": "markdown",
   "id": "9b95be53",
   "metadata": {},
   "source": [
    "# Q.1"
   ]
  },
  {
   "cell_type": "code",
   "execution_count": 47,
   "id": "b44a6d26",
   "metadata": {},
   "outputs": [
    {
     "data": {
      "text/plain": [
       "set"
      ]
     },
     "execution_count": 47,
     "metadata": {},
     "output_type": "execute_result"
    }
   ],
   "source": [
    "s_1 = {1,2,3,4,5,6}\n",
    "type(s_1)"
   ]
  },
  {
   "cell_type": "code",
   "execution_count": 48,
   "id": "c61745c5",
   "metadata": {},
   "outputs": [
    {
     "data": {
      "text/plain": [
       "True"
      ]
     },
     "execution_count": 48,
     "metadata": {},
     "output_type": "execute_result"
    }
   ],
   "source": [
    "6 in s_1"
   ]
  },
  {
   "cell_type": "markdown",
   "id": "a39d46cf",
   "metadata": {},
   "source": [
    "# Q.2"
   ]
  },
  {
   "cell_type": "code",
   "execution_count": 49,
   "id": "35058b4a",
   "metadata": {},
   "outputs": [
    {
     "data": {
      "text/plain": [
       "set"
      ]
     },
     "execution_count": 49,
     "metadata": {},
     "output_type": "execute_result"
    }
   ],
   "source": [
    "l_1 = [2,2,3,4,4,6,7]\n",
    "a = set(l_1)\n",
    "type(a)"
   ]
  },
  {
   "cell_type": "markdown",
   "id": "daa5c060",
   "metadata": {},
   "source": [
    "# Q.3"
   ]
  },
  {
   "cell_type": "code",
   "execution_count": 50,
   "id": "ef6a9b64",
   "metadata": {},
   "outputs": [
    {
     "name": "stdout",
     "output_type": "stream",
     "text": [
      "found 7.4656.67.1\n",
      "found 4.4656.6\n"
     ]
    }
   ],
   "source": [
    "l_2 = [\"7.4656.67.1\",\"4.4656.6\"]\n",
    "l_3 = [\"4.4656.6\",\"7.4656.67.1\"]\n",
    "l_3[1]\n",
    "for i in l_2:\n",
    "    if i in l_3:\n",
    "        print(\"found\",i)"
   ]
  },
  {
   "cell_type": "markdown",
   "id": "f1d24b78",
   "metadata": {},
   "source": [
    "# Dictionary"
   ]
  },
  {
   "cell_type": "markdown",
   "id": "099c855a",
   "metadata": {},
   "source": [
    "# Q.1"
   ]
  },
  {
   "cell_type": "code",
   "execution_count": 51,
   "id": "17f9df03",
   "metadata": {},
   "outputs": [
    {
     "data": {
      "text/plain": [
       "dict_keys(['2345', '3456', '3426'])"
      ]
     },
     "execution_count": 51,
     "metadata": {},
     "output_type": "execute_result"
    }
   ],
   "source": [
    "d_4 = {'2345':456 , '3456':345 , '3426':325}\n",
    "d_4.keys()"
   ]
  },
  {
   "cell_type": "code",
   "execution_count": 52,
   "id": "fddcbc0d",
   "metadata": {},
   "outputs": [
    {
     "data": {
      "text/plain": [
       "dict_values([456, 345, 325])"
      ]
     },
     "execution_count": 52,
     "metadata": {},
     "output_type": "execute_result"
    }
   ],
   "source": [
    "d_4.values()"
   ]
  },
  {
   "cell_type": "code",
   "execution_count": 53,
   "id": "4e28271a",
   "metadata": {},
   "outputs": [
    {
     "data": {
      "text/plain": [
       "(456, 325)"
      ]
     },
     "execution_count": 53,
     "metadata": {},
     "output_type": "execute_result"
    }
   ],
   "source": [
    "d_4['2345'] , d_4['3426']"
   ]
  },
  {
   "cell_type": "markdown",
   "id": "a07514b7",
   "metadata": {},
   "source": [
    "# Q.2"
   ]
  },
  {
   "cell_type": "code",
   "execution_count": 54,
   "id": "f1254229",
   "metadata": {},
   "outputs": [],
   "source": [
    "comm = { 'chair' : 10, 'table' : 22, 'sofa-set': 2, 'tv-unit': 0, 'fan': 10, \n",
    "        'table-lamp': 0, 'iron-box': 0, 'bed': 30 }\n",
    "price = { 'chair': 2365, 'table': 37752, 'sofa-set': 23299, 'tv-unit': 120344, 'bed': 40226 }"
   ]
  },
  {
   "cell_type": "code",
   "execution_count": null,
   "id": "40933dfe",
   "metadata": {},
   "outputs": [
    {
     "name": "stdout",
     "output_type": "stream",
     "text": [
      "Plz Enter What You Need: chair\n",
      "Plz Enter The Quantity:   3\n",
      "Commoditiy Found\n",
      "In-Stock & Available\n",
      "Now Cash is:  7095\n",
      "dict_items([('chair', 7), ('table', 22), ('sofa-set', 2), ('tv-unit', 0), ('fan', 10), ('table-lamp', 0), ('iron-box', 0), ('bed', 30)])\n",
      "Plz Enter What You Need: table\n",
      "Plz Enter The Quantity:   2\n",
      "Commoditiy Found\n",
      "In-Stock & Available\n",
      "Now Cash is:  82599\n",
      "dict_items([('chair', 7), ('table', 20), ('sofa-set', 2), ('tv-unit', 0), ('fan', 10), ('table-lamp', 0), ('iron-box', 0), ('bed', 30)])\n"
     ]
    }
   ],
   "source": [
    "cash = 0\n",
    "\n",
    "while True:\n",
    "    entered_commodity = input(\"Plz Enter What You Need: \")\n",
    "    if entered_commodity == \"quit\": \n",
    "        print(\"Thank You For Shopping!\")\n",
    "        break\n",
    "    \n",
    "    quantity = int(input(\"Plz Enter The Quantity:   \"))\n",
    "    if entered_commodity in comm.keys():\n",
    "        print(\"Commoditiy Found\")\n",
    "        if comm[entered_commodity]>0 and quantity<=comm[entered_commodity]:\n",
    "            print(\"In-Stock & Available\")\n",
    "            cash = cash + (price[entered_commodity] * quantity)\n",
    "            print(\"Now Cash is: \", cash)\n",
    "            comm[entered_commodity] = comm[entered_commodity] - quantity\n",
    "            print(comm.items())\n",
    "\n",
    "        else:\n",
    "            print(\"Sorry, Out Of Stock OR the Quantity is More than The Available Stock.\")\n",
    "        \n",
    "    else:\n",
    "        print(\"Sorry, We Do Not Have What You Want.\")"
   ]
  },
  {
   "cell_type": "code",
   "execution_count": null,
   "id": "e56c7b9b",
   "metadata": {},
   "outputs": [],
   "source": []
  }
 ],
 "metadata": {
  "kernelspec": {
   "display_name": "Python 3 (ipykernel)",
   "language": "python",
   "name": "python3"
  },
  "language_info": {
   "codemirror_mode": {
    "name": "ipython",
    "version": 3
   },
   "file_extension": ".py",
   "mimetype": "text/x-python",
   "name": "python",
   "nbconvert_exporter": "python",
   "pygments_lexer": "ipython3",
   "version": "3.9.7"
  }
 },
 "nbformat": 4,
 "nbformat_minor": 5
}
